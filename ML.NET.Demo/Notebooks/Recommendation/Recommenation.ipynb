{
  "cells": [
    {
      "cell_type": "markdown",
      "metadata": {},
      "source": [
        "1. Install needed nugets"
      ]
    },
    {
      "cell_type": "code",
      "execution_count": 1,
      "metadata": {
        "dotnet_interactive": {
          "language": "csharp"
        }
      },
      "source": [
        "#r \"nuget:Microsoft.ML,*-*\"\n",
        "#r \"nuget:Microsoft.ML.Recommender,*-*\"\n",
        "#r \"nuget:Microsoft.Data.Analysis, *-*\"\n",
        "#r \"nuget:Microsoft.DotNet.Interactive.ExtensionLab,*-*\""
      ],
      "outputs": [
        {
          "output_type": "execute_result",
          "data": {
            "text/html": "<div><div></div><div></div><div><strong>Installed Packages</strong><ul><li><span>Microsoft.Data.Analysis, 0.20.0-preview.22313.1</span></li><li><span>Microsoft.DotNet.Interactive.ExtensionLab, 1.0.0-beta.22504.6</span></li><li><span>Microsoft.ML, 2.0.0-preview.22313.1</span></li><li><span>Microsoft.ML.Recommender, 0.20.0-preview.22313.1</span></li></ul></div></div>"
          },
          "execution_count": 1,
          "metadata": {}
        }
      ]
    },
    {
      "cell_type": "markdown",
      "metadata": {},
      "source": [
        "2. Add global usings"
      ]
    },
    {
      "cell_type": "code",
      "execution_count": 1,
      "metadata": {
        "dotnet_interactive": {
          "language": "csharp"
        }
      },
      "source": [
        "using Microsoft.ML;\n",
        "using Microsoft.ML.Data;\n",
        "using Microsoft.Data.Analysis;\n",
        "using System.IO;\n",
        "using System.Text;"
      ],
      "outputs": []
    },
    {
      "cell_type": "markdown",
      "metadata": {},
      "source": [
        "3. Add input data model"
      ]
    },
    {
      "cell_type": "code",
      "execution_count": 1,
      "metadata": {
        "dotnet_interactive": {
          "language": "csharp"
        }
      },
      "source": [
        "public class AnimeInput\n",
        "{\n",
        "\t[LoadColumn(0)]\n",
        "\tpublic float UserId {get;set;}\n",
        "\n",
        "\t[LoadColumn(1)]\n",
        "\tpublic float AnimeId {get;set;}\n",
        "\n",
        "\t[LoadColumn(2)]\n",
        "\tpublic float Rating {get;set;}\n",
        "}"
      ],
      "outputs": []
    },
    {
      "cell_type": "markdown",
      "metadata": {},
      "source": [
        "4. Add output data model"
      ]
    },
    {
      "cell_type": "code",
      "execution_count": 1,
      "metadata": {
        "dotnet_interactive": {
          "language": "csharp"
        }
      },
      "source": [
        "public class AnimeOutput\n",
        "{\n",
        "\t[ColumnName(\"Score\")]\n",
        "\tpublic float Score {get;set;}\n",
        "}"
      ],
      "outputs": []
    },
    {
      "cell_type": "markdown",
      "metadata": {},
      "source": [
        "5. Load and split dataset to test and training sets"
      ]
    },
    {
      "cell_type": "code",
      "execution_count": 1,
      "metadata": {
        "dotnet_interactive": {
          "language": "csharp"
        }
      },
      "source": [
        "var mlContext = new MLContext();\n",
        "var trainingData = mlContext.Data.LoadFromTextFile<AnimeInput>(\"../../../ML.NET.Demo/Assets/rating.csv\", hasHeader: true, separatorChar: ',');\n",
        "var dataSplit = mlContext.Data.TrainTestSplit(trainingData, testFraction: 0.2);"
      ],
      "outputs": []
    },
    {
      "cell_type": "markdown",
      "metadata": {},
      "source": [
        "6. *Optional* Display dataset"
      ]
    },
    {
      "cell_type": "code",
      "execution_count": 1,
      "metadata": {
        "dotnet_interactive": {
          "language": "csharp"
        }
      },
      "source": [
        "dataSplit.TestSet.ToTabularDataResource.Display();"
      ],
      "outputs": []
    },
    {
      "cell_type": "markdown",
      "metadata": {},
      "source": [
        "7. Train the model (Feature Engineering)"
      ]
    },
    {
      "cell_type": "code",
      "execution_count": 1,
      "metadata": {
        "dotnet_interactive": {
          "language": "csharp"
        }
      },
      "source": [
        "var model = mlContext.Recommendation().Trainers.MatrixFactorization(labelColumnName: \"Label\", matrixColumnIndexColumnName: \"UserFeature\", matrixRowIndexColumnName: \"AnimeFeature\", approximationRank: 5, learningRate: 0.01, numberOfIterations: 50);\n",
        "\n",
        "var pipeline = mlContext.Transforms.Conversion.MapValueToKey(\"UserFeature\", nameof(AnimeInput.UserId))\n",
        "\t\t\t\t\t.Append(mlContext.Transforms.Conversion.MapValueToKey(\"AnimeFeature\", nameof(AnimeInput.AnimeId)))\n",
        "\t\t\t\t\t.Append(mlContext.Transforms.CopyColumns(\"Label\", nameof(AnimeInput.Rating)))\n",
        "\t\t\t\t\t.Append(model);\n",
        "\n",
        "var trainedModel = pipeline.Fit(dataSplit.TrainSet);"
      ],
      "outputs": []
    },
    {
      "cell_type": "markdown",
      "metadata": {},
      "source": [
        "8. Evaluate Model"
      ]
    },
    {
      "cell_type": "code",
      "execution_count": 1,
      "metadata": {
        "dotnet_interactive": {
          "language": "csharp"
        }
      },
      "source": [
        "var testSet = trainedModel.Transform(dataSplit.TestSet);\n",
        "var metrics = mlContext.Recommendation().Evaluate(testSet);\n",
        "\n",
        "metrics"
      ],
      "outputs": [
        {
          "output_type": "execute_result",
          "data": {
            "text/html": "<table><thead><tr><th>MeanAbsoluteError</th><th>MeanSquaredError</th><th>RootMeanSquaredError</th><th>LossFunction</th><th>RSquared</th></tr></thead><tbody><tr><td><div class=\"dni-plaintext\">1.424727638001567</div></td><td><div class=\"dni-plaintext\">4.813218505218332</div></td><td><div class=\"dni-plaintext\">2.1939048532737995</div></td><td><div class=\"dni-plaintext\">4.813218505394835</div></td><td><div class=\"dni-plaintext\">0.657061429675964</div></td></tr></tbody></table>"
          },
          "execution_count": 1,
          "metadata": {}
        }
      ]
    },
    {
      "cell_type": "markdown",
      "metadata": {},
      "source": [
        "9. Save the model"
      ]
    },
    {
      "cell_type": "code",
      "execution_count": 1,
      "metadata": {
        "dotnet_interactive": {
          "language": "csharp"
        }
      },
      "source": [
        "mlContext.Model.Save(trainedModel, dataSplit.TrainSet.Schema, \"./Recommendation.mdl\");"
      ],
      "outputs": []
    },
    {
      "cell_type": "markdown",
      "metadata": {},
      "source": [
        "10. Load the model and test"
      ]
    },
    {
      "cell_type": "code",
      "execution_count": 1,
      "metadata": {
        "dotnet_interactive": {
          "language": "csharp"
        }
      },
      "source": [
        "var newSample = new AnimeInput\n",
        "{\n",
        "\tUserId = 1f,\n",
        "\tAnimeId = 20f\n",
        "};\n",
        "\n",
        "using (var stream = new FileStream(\"./Recommendation.mdl\", FileMode.Open, FileAccess.Read))\n",
        "{\n",
        "    var model = mlContext.Model.Load(stream, out var _);\n",
        "    var predictionEngine = mlContext.Model.CreatePredictionEngine<AnimeInput, AnimeOutput>(model);\n",
        "    var results = predictionEngine.Predict(newSample);\n",
        "\n",
        "    results.Display();\n",
        "}"
      ],
      "outputs": [
        {
          "output_type": "execute_result",
          "data": {
            "text/html": "<table><thead><tr><th>Score</th></tr></thead><tbody><tr><td><div class=\"dni-plaintext\">-0.6629313</div></td></tr></tbody></table>"
          },
          "execution_count": 1,
          "metadata": {}
        }
      ]
    }
  ],
  "metadata": {
    "kernelspec": {
      "display_name": ".NET (C#)",
      "language": "C#",
      "name": ".net-csharp"
    },
    "language_info": {
      "file_extension": ".cs",
      "mimetype": "text/x-csharp",
      "name": "C#",
      "pygments_lexer": "csharp",
      "version": "8.0"
    }
  },
  "nbformat": 4,
  "nbformat_minor": 4
}