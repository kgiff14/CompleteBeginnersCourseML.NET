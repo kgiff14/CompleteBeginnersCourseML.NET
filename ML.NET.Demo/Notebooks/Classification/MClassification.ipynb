{
  "cells": [
    {
      "cell_type": "markdown",
      "metadata": {},
      "source": [
        "1. Install nugets for demo"
      ]
    },
    {
      "cell_type": "code",
      "execution_count": 1,
      "metadata": {
        "dotnet_interactive": {
          "language": "csharp"
        }
      },
      "source": [
        "#r \"nuget:Microsoft.ML,*-*\"\n",
        "#r \"nuget:Microsoft.Data.Analysis, *-*\"\n",
        "#r \"nuget:Microsoft.DotNet.Interactive.ExtensionLab,*-*\""
      ],
      "outputs": [
        {
          "output_type": "execute_result",
          "data": {
            "text/html": "<div><div></div><div></div><div><strong>Installed Packages</strong><ul><li><span>Microsoft.Data.Analysis, 0.20.0-preview.22313.1</span></li><li><span>Microsoft.DotNet.Interactive.ExtensionLab, 1.0.0-beta.22504.6</span></li><li><span>Microsoft.ML, 2.0.0-preview.22313.1</span></li></ul></div></div>"
          },
          "execution_count": 1,
          "metadata": {}
        },
        {
          "output_type": "execute_result",
          "data": {
            "text/markdown": "Loading extensions from `Microsoft.Data.Analysis.Interactive.dll`"
          },
          "execution_count": 1,
          "metadata": {}
        }
      ]
    },
    {
      "cell_type": "markdown",
      "metadata": {},
      "source": [
        "2. Declare global usings"
      ]
    },
    {
      "cell_type": "code",
      "execution_count": 1,
      "metadata": {
        "dotnet_interactive": {
          "language": "csharp"
        }
      },
      "source": [
        "using Microsoft.ML;\n",
        "using Microsoft.ML.Data;\n",
        "using Microsoft.Data.Analysis;\n",
        "using System.IO;\n",
        "using System.Text;"
      ],
      "outputs": []
    },
    {
      "cell_type": "markdown",
      "metadata": {},
      "source": [
        "3. Declare input data model"
      ]
    },
    {
      "cell_type": "code",
      "execution_count": 1,
      "metadata": {
        "dotnet_interactive": {
          "language": "csharp"
        }
      },
      "source": [
        "public class DiamondInput\n",
        "{\n",
        "\t[LoadColumn(0)]\n",
        "\tpublic float Carat {get;set;}\n",
        "\n",
        "\t[LoadColumn(1)]\n",
        "\tpublic string Label {get;set;}\n",
        "\n",
        "\t[LoadColumn(2)]\n",
        "\tpublic string Color {get;set;}\n",
        "\n",
        "\t[LoadColumn(3)]\n",
        "\tpublic string Clarity {get;set;}\n",
        "\n",
        "\t[LoadColumn(4)]\n",
        "\tpublic string Polish {get;set;}\n",
        "\n",
        "\t[LoadColumn(5)]\n",
        "\tpublic string Symmetry {get;set;}\n",
        "\n",
        "\t[LoadColumn(6)]\n",
        "\tpublic string Report {get;set;}\n",
        "\n",
        "\t[LoadColumn(7)]\n",
        "\tpublic float Price {get;set;}\n",
        "}"
      ],
      "outputs": []
    },
    {
      "cell_type": "markdown",
      "metadata": {},
      "source": [
        "4. Declare output data model"
      ]
    },
    {
      "cell_type": "code",
      "execution_count": 1,
      "metadata": {
        "dotnet_interactive": {
          "language": "csharp"
        }
      },
      "source": [
        "public class DiamondOutput\n",
        "{\n",
        "\t[ColumnName(\"PredictedLabel\")]\n",
        "\tpublic string PredictedLabel {get;set;}\n",
        "}"
      ],
      "outputs": []
    },
    {
      "cell_type": "markdown",
      "metadata": {},
      "source": [
        "5. Load the dataset and split into test and training sets"
      ]
    },
    {
      "cell_type": "code",
      "execution_count": 1,
      "metadata": {
        "dotnet_interactive": {
          "language": "csharp"
        }
      },
      "source": [
        "var mlContext = new MLContext();\n",
        "var trainingData = mlContext.Data.LoadFromTextFile<DiamondInput>(\"../../../ML.NET.Demo/Assets/diamond.csv\", hasHeader: true, separatorChar: ',');\n",
        "var dataSplit = mlContext.Data.TrainTestSplit(trainingData, testFraction: 0.3);"
      ],
      "outputs": []
    },
    {
      "cell_type": "markdown",
      "metadata": {},
      "source": [
        "6. *Optional* Display dataset"
      ]
    },
    {
      "cell_type": "code",
      "execution_count": 1,
      "metadata": {
        "dotnet_interactive": {
          "language": "csharp"
        }
      },
      "source": [
        "dataSplit.TestSet.ToTabularDataResource().Display();"
      ],
      "outputs": []
    },
    {
      "cell_type": "markdown",
      "metadata": {},
      "source": [
        "7. Train the model"
      ]
    },
    {
      "cell_type": "code",
      "execution_count": 1,
      "metadata": {
        "dotnet_interactive": {
          "language": "csharp"
        }
      },
      "source": [
        "var model = mlContext.MulticlassClassification.Trainers.SdcaNonCalibrated(labelColumnName: \"Label\", featureColumnName: \"Features\");\n",
        "\n",
        "var pipeline = mlContext.Transforms.Conversion.MapValueToKey(inputColumnName: nameof(DiamondInput.Label), outputColumnName: \"Label\")\n",
        "\t\t\t\t.Append(mlContext.Transforms.Text.FeaturizeText(inputColumnName: nameof(DiamondInput.Clarity), outputColumnName: \"ClarityFeature\"))\n",
        "\t\t\t\t.Append(mlContext.Transforms.Text.FeaturizeText(inputColumnName: nameof(DiamondInput.Color), outputColumnName: \"ColorFeature\"))\n",
        "\t\t\t\t.Append(mlContext.Transforms.Text.FeaturizeText(inputColumnName: nameof(DiamondInput.Polish), outputColumnName: \"PolishFeature\"))\n",
        "\t\t\t\t.Append(mlContext.Transforms.Text.FeaturizeText(inputColumnName: nameof(DiamondInput.Report), outputColumnName: \"ReportFeature\"))\n",
        "\t\t\t\t.Append(mlContext.Transforms.Text.FeaturizeText(inputColumnName: nameof(DiamondInput.Symmetry), outputColumnName: \"ClarityFeature\"))\n",
        "\t\t\t\t.Append(mlContext.Transforms.Concatenate(\"Features\", new[]\n",
        "\t\t\t\t\t\t\t\t\t\t\t\t\t\t\t{\n",
        "\t\t\t\t\t\t\t\t\t\t\t\t\t\t\t\t\"ClarityFeature\",\n",
        "\t\t\t\t\t\t\t\t\t\t\t\t\t\t\t\t\"ColorFeature\",\n",
        "\t\t\t\t\t\t\t\t\t\t\t\t\t\t\t\t\"PolishFeature\",\n",
        "\t\t\t\t\t\t\t\t\t\t\t\t\t\t\t\t\"ReportFeature\",\n",
        "\t\t\t\t\t\t\t\t\t\t\t\t\t\t\t\t\"ClarityFeature\",\n",
        "\t\t\t\t\t\t\t\t\t\t\t\t\t\t\t\tnameof(DiamondInput.Price)\n",
        "\t\t\t\t\t\t\t\t\t\t\t\t\t\t\t}))\n",
        "\t\t\t\t.Append(mlContext.Transforms.NormalizeMinMax(\"Features\", \"Features\"))\n",
        "\t\t\t\t.Append(model)\n",
        "\t\t\t\t.Append(mlContext.Transforms.Conversion.MapKeyToValue(\"PredictedLabel\"));\n",
        "\n",
        "var trainedModel = pipeline.Fit(dataSplit.TrainSet);"
      ],
      "outputs": []
    },
    {
      "cell_type": "markdown",
      "metadata": {},
      "source": [
        "8. Evaluate the model"
      ]
    },
    {
      "cell_type": "code",
      "execution_count": 1,
      "metadata": {
        "dotnet_interactive": {
          "language": "csharp"
        }
      },
      "source": [
        "var testSet = trainedModel.Transform(dataSplit.TestSet);\n",
        "var metrics = mlContext.MulticlassClassification.Evaluate(testSet);\n",
        "\n",
        "metrics"
      ],
      "outputs": [
        {
          "output_type": "execute_result",
          "data": {
            "text/html": "<table><thead><tr><th>LogLoss</th><th>LogLossReduction</th><th>MacroAccuracy</th><th>MicroAccuracy</th><th>TopKAccuracy</th><th>TopKPredictionCount</th><th>TopKAccuracyForAllK</th><th>PerClassLogLoss</th><th>ConfusionMatrix</th></tr></thead><tbody><tr><td><div class=\"dni-plaintext\">3.862747985690637</div></td><td><div class=\"dni-plaintext\">-2.1829566438873957</div></td><td><div class=\"dni-plaintext\">0.27967497706108085</div></td><td><div class=\"dni-plaintext\">0.5604099244875944</div></td><td><div class=\"dni-plaintext\">0</div></td><td><div class=\"dni-plaintext\">0</div></td><td><div class=\"dni-plaintext\">&lt;null&gt;</div></td><td><div class=\"dni-plaintext\">[ 3.5163566594743147, 4.330763328129494, 3.7123409862100183, 2.7788407099540557, 11.82147854028524 ]</div></td><td><div class=\"dni-plaintext\">{ Microsoft.ML.Data.ConfusionMatrix: PerClassPrecision: [ 0.6384803921568627, 0, 0.501953125, 0.36363636363636365, 0 ], PerClassRecall: [ 0.6578282828282829, 0, 0.7229254571026723, 0.01762114537444934, 0 ], Counts: [ [ 521, 0, 268, 0, 3 ], [ 5, 0, 41, 2, 0 ], [ 192, 0, 514, 5, 0 ], [ 22, 0, 201, 4, 0 ], [ 76, 0, 0, 0, 0 ] ], NumberOfClasses: 5 }</div></td></tr></tbody></table>"
          },
          "execution_count": 1,
          "metadata": {}
        }
      ]
    },
    {
      "cell_type": "markdown",
      "metadata": {},
      "source": [
        "9. Save the model"
      ]
    },
    {
      "cell_type": "code",
      "execution_count": 1,
      "metadata": {
        "dotnet_interactive": {
          "language": "csharp"
        }
      },
      "source": [
        "mlContext.Model.Save(trainedModel, dataSplit.TrainSet.Schema, \"./MultiClassification.mdl\");"
      ],
      "outputs": []
    },
    {
      "cell_type": "markdown",
      "metadata": {},
      "source": [
        "10. Load the model and test"
      ]
    },
    {
      "cell_type": "code",
      "execution_count": 1,
      "metadata": {
        "dotnet_interactive": {
          "language": "csharp"
        }
      },
      "source": [
        "var newSample = new DiamondInput\n",
        "{\n",
        "    Carat = 1.1f,\n",
        "\tColor = \"H\",\n",
        "\tClarity = \"SI1\",\n",
        "\tPolish = \"VG\",\n",
        "\tSymmetry = \"EX\",\n",
        "\tReport = \"GIA\",\n",
        "\tPrice = 5169\n",
        "};\n",
        "\n",
        "using (var stream = new FileStream(\"./MultiClassification.mdl\", FileMode.Open, FileAccess.Read))\n",
        "{\n",
        "    var model = mlContext.Model.Load(stream, out _);\n",
        "    var predictionEngine = mlContext.Model.CreatePredictionEngine<DiamondInput, DiamondOutput>(model);\n",
        "\n",
        "    var result = predictionEngine.Predict(newSample);\n",
        "\n",
        "    Console.WriteLine(\"Prediction: \" + result.PredictedLabel);\n",
        "}"
      ],
      "outputs": [
        {
          "output_type": "execute_result",
          "data": {
            "text/plain": "Prediction: Ideal\r\n"
          },
          "execution_count": 1,
          "metadata": {}
        }
      ]
    }
  ],
  "metadata": {
    "kernelspec": {
      "display_name": ".NET (C#)",
      "language": "C#",
      "name": ".net-csharp"
    },
    "language_info": {
      "file_extension": ".cs",
      "mimetype": "text/x-csharp",
      "name": "C#",
      "pygments_lexer": "csharp",
      "version": "8.0"
    }
  },
  "nbformat": 4,
  "nbformat_minor": 4
}