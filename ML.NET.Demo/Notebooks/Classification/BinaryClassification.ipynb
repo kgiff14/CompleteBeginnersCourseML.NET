{
  "cells": [
    {
      "cell_type": "markdown",
      "metadata": {},
      "source": [
        "1. Add required nugets for demo"
      ]
    },
    {
      "cell_type": "code",
      "execution_count": 1,
      "metadata": {
        "dotnet_interactive": {
          "language": "csharp"
        }
      },
      "source": [
        "#r \"nuget:Microsoft.ML,*-*\"\n",
        "#r \"nuget:Microsoft.Data.Analysis, *-*\"\n",
        "#r \"nuget:Microsoft.DotNet.Interactive.ExtensionLab,*-*\""
      ],
      "outputs": [
        {
          "output_type": "execute_result",
          "data": {
            "text/html": "<div><div></div><div></div><div><strong>Installed Packages</strong><ul><li><span>Microsoft.Data.Analysis, 0.20.0-preview.22313.1</span></li><li><span>Microsoft.DotNet.Interactive.ExtensionLab, 1.0.0-beta.22504.6</span></li><li><span>Microsoft.ML, 2.0.0-preview.22313.1</span></li></ul></div></div>"
          },
          "execution_count": 1,
          "metadata": {}
        }
      ]
    },
    {
      "cell_type": "markdown",
      "metadata": {},
      "source": [
        "2. Add global usings"
      ]
    },
    {
      "cell_type": "code",
      "execution_count": 1,
      "metadata": {
        "dotnet_interactive": {
          "language": "csharp"
        }
      },
      "source": [
        "using Microsoft.ML;\n",
        "using Microsoft.ML.Data;\n",
        "using Microsoft.Data.Analysis;\n",
        "using System.IO;\n",
        "using System.Text;"
      ],
      "outputs": []
    },
    {
      "cell_type": "markdown",
      "metadata": {},
      "source": [
        "3. Declare input data model"
      ]
    },
    {
      "cell_type": "code",
      "execution_count": 1,
      "metadata": {
        "dotnet_interactive": {
          "language": "csharp"
        }
      },
      "source": [
        "public class BreastCancerInput\n",
        "{\n",
        "\t[LoadColumn(0)]\n",
        "\tpublic float Id {get;set;}\n",
        "\n",
        "\t[LoadColumn(1)]\n",
        "\tpublic bool Label {get;set;}\n",
        "\n",
        "\t[LoadColumn(2)]\n",
        "\tpublic float RadiusMean {get;set;}\n",
        "\n",
        "\t[LoadColumn(3)]\n",
        "\tpublic float TextureMean {get;set;}\n",
        "\n",
        "\t[LoadColumn(4)]\n",
        "\tpublic float PerimeterMean {get;set;}\n",
        "\n",
        "\t[LoadColumn(5)]\n",
        "\tpublic float AreaMean {get;set;}\n",
        "\n",
        "\t[LoadColumn(6)]\n",
        "\tpublic float SmoothnessMean {get;set;}\n",
        "\n",
        "\t[LoadColumn(7)]\n",
        "\tpublic float CompactnessMean {get;set;}\n",
        "\n",
        "\t[LoadColumn(8)]\n",
        "\tpublic float ConcavityMean {get;set;}\n",
        "\n",
        "\t[LoadColumn(9)]\n",
        "\tpublic float ConcaveMean {get;set;}\n",
        "\n",
        "\t[LoadColumn(10)]\n",
        "\tpublic float SymmetryMean {get;set;}\n",
        "\n",
        "\t[LoadColumn(11)]\n",
        "\tpublic float FractialDimensionMean {get;set;}\n",
        "\n",
        "\t[LoadColumn(12)]\n",
        "\tpublic float RadiusSe {get;set;}\n",
        "\n",
        "\t[LoadColumn(13)]\n",
        "\tpublic float TextureSe {get;set;}\n",
        "\n",
        "\t[LoadColumn(14)]\n",
        "\tpublic float PerimeterSe {get;set;}\n",
        "\n",
        "\t[LoadColumn(15)]\n",
        "\tpublic float AreaSe {get;set;}\n",
        "\n",
        "\t[LoadColumn(16)]\n",
        "\tpublic float SmoothnessSe {get;set;}\n",
        "\n",
        "\t[LoadColumn(17)]\n",
        "\tpublic float CompactnessSe {get;set;}\n",
        "\n",
        "\t[LoadColumn(18)]\n",
        "\tpublic float ConcavitySe {get;set;}\n",
        "\n",
        "\t[LoadColumn(19)]\n",
        "\tpublic float ConcaveSe {get;set;}\n",
        "\n",
        "\t[LoadColumn(20)]\n",
        "\tpublic float SymmetrySe {get;set;}\n",
        "\n",
        "\t[LoadColumn(21)]\n",
        "\tpublic float FractialDimensionSe {get;set;}\n",
        "\n",
        "\t[LoadColumn(22)]\n",
        "\tpublic float RadiusWorst {get;set;}\n",
        "\n",
        "\t[LoadColumn(23)]\n",
        "\tpublic float TextureWorst {get;set;}\n",
        "\n",
        "\t[LoadColumn(24)]\n",
        "\tpublic float PerimeterWorst {get;set;}\n",
        "\n",
        "\t[LoadColumn(25)]\n",
        "\tpublic float AreaWorst {get;set;}\n",
        "\n",
        "\t[LoadColumn(26)]\n",
        "\tpublic float SmoothnessWorst {get;set;}\n",
        "\n",
        "\t[LoadColumn(27)]\n",
        "\tpublic float CompactnessWorst {get;set;}\n",
        "\n",
        "\t[LoadColumn(28)]\n",
        "\tpublic float ConcavityWorst {get;set;}\n",
        "\n",
        "\t[LoadColumn(29)]\n",
        "\tpublic float ConcaveWorst {get;set;}\n",
        "\n",
        "\t[LoadColumn(30)]\n",
        "\tpublic float SymmetryWorst {get;set;}\n",
        "\n",
        "\t[LoadColumn(31)]\n",
        "\tpublic float FractialDimensionWorst {get;set;}\n",
        "}"
      ],
      "outputs": []
    },
    {
      "cell_type": "markdown",
      "metadata": {},
      "source": [
        "4. Declare the output model"
      ]
    },
    {
      "cell_type": "code",
      "execution_count": 1,
      "metadata": {
        "dotnet_interactive": {
          "language": "csharp"
        }
      },
      "source": [
        "public class BreastCancerOutput\n",
        "{\n",
        "\t[ColumnName(\"PredictedLabel\")]\n",
        "\tpublic bool IsMalignant {get;set;}\n",
        "}"
      ],
      "outputs": []
    },
    {
      "cell_type": "markdown",
      "metadata": {},
      "source": [
        "5. Load the dataset and split it into test and training sets"
      ]
    },
    {
      "cell_type": "code",
      "execution_count": 1,
      "metadata": {
        "dotnet_interactive": {
          "language": "csharp"
        }
      },
      "source": [
        "var mlContext = new MLContext();\n",
        "var trainingData = mlContext.Data.LoadFromTextFile<BreastCancerInput>(\"../../../ML.NET.Demo/Assets/breast-cancer.csv\", hasHeader: true, separatorChar: ',');\n",
        "var dataSplit = mlContext.Data.TrainTestSplit(trainingData, testFraction: 0.3);"
      ],
      "outputs": []
    },
    {
      "cell_type": "markdown",
      "metadata": {},
      "source": [
        "6. *Optional* view loaded dataset"
      ]
    },
    {
      "cell_type": "code",
      "execution_count": 1,
      "metadata": {
        "dotnet_interactive": {
          "language": "csharp"
        }
      },
      "source": [
        "dataSplit.TestSet.ToTabularDataResource().Display();"
      ],
      "outputs": []
    },
    {
      "cell_type": "markdown",
      "metadata": {},
      "source": [
        "7. Train our model. (Feature Engineering)"
      ]
    },
    {
      "cell_type": "code",
      "execution_count": 1,
      "metadata": {
        "dotnet_interactive": {
          "language": "csharp"
        }
      },
      "source": [
        "var model = mlContext.BinaryClassification.Trainers.LbfgsLogisticRegression(labelColumnName: \"Label\", featureColumnName: \"Features\");\n",
        "\n",
        "\n",
        "var pipeline = mlContext.Transforms.Concatenate(\"Features\", new []{\n",
        "\t\t\t\t\t\t\t\t\t\t\t\tnameof(BreastCancerInput.RadiusMean),\n",
        "\t\t\t\t\t\t\t\t\t\t\t\tnameof(BreastCancerInput.TextureMean),\n",
        "\t\t\t\t\t\t\t\t\t\t\t\tnameof(BreastCancerInput.PerimeterMean),\n",
        "\t\t\t\t\t\t\t\t\t\t\t\tnameof(BreastCancerInput.AreaMean),\n",
        "\t\t\t\t\t\t\t\t\t\t\t\tnameof(BreastCancerInput.SmoothnessMean),\n",
        "\t\t\t\t\t\t\t\t\t\t\t\tnameof(BreastCancerInput.CompactnessMean),\n",
        "\t\t\t\t\t\t\t\t\t\t\t\tnameof(BreastCancerInput.ConcavityMean),\n",
        "\t\t\t\t\t\t\t\t\t\t\t\tnameof(BreastCancerInput.ConcaveMean),\n",
        "\t\t\t\t\t\t\t\t\t\t\t\tnameof(BreastCancerInput.SymmetryMean),\n",
        "\t\t\t\t\t\t\t\t\t\t\t\tnameof(BreastCancerInput.FractialDimensionMean),\n",
        "\t\t\t\t\t\t\t\t\t\t\t\tnameof(BreastCancerInput.RadiusSe),\n",
        "\t\t\t\t\t\t\t\t\t\t\t\tnameof(BreastCancerInput.TextureSe),\n",
        "\t\t\t\t\t\t\t\t\t\t\t\tnameof(BreastCancerInput.PerimeterSe),\n",
        "\t\t\t\t\t\t\t\t\t\t\t\tnameof(BreastCancerInput.AreaSe),\n",
        "\t\t\t\t\t\t\t\t\t\t\t\tnameof(BreastCancerInput.SmoothnessSe),\n",
        "\t\t\t\t\t\t\t\t\t\t\t\tnameof(BreastCancerInput.CompactnessSe),\n",
        "\t\t\t\t\t\t\t\t\t\t\t\tnameof(BreastCancerInput.ConcaveSe),\n",
        "\t\t\t\t\t\t\t\t\t\t\t\tnameof(BreastCancerInput.ConcavitySe),\n",
        "\t\t\t\t\t\t\t\t\t\t\t\tnameof(BreastCancerInput.SymmetrySe),\n",
        "\t\t\t\t\t\t\t\t\t\t\t\tnameof(BreastCancerInput.FractialDimensionSe),\n",
        "\t\t\t\t\t\t\t\t\t\t\t\tnameof(BreastCancerInput.RadiusWorst),\n",
        "\t\t\t\t\t\t\t\t\t\t\t\tnameof(BreastCancerInput.TextureWorst),\n",
        "\t\t\t\t\t\t\t\t\t\t\t\tnameof(BreastCancerInput.PerimeterWorst),\n",
        "\t\t\t\t\t\t\t\t\t\t\t\tnameof(BreastCancerInput.AreaWorst),\n",
        "\t\t\t\t\t\t\t\t\t\t\t\tnameof(BreastCancerInput.SmoothnessWorst),\n",
        "\t\t\t\t\t\t\t\t\t\t\t\tnameof(BreastCancerInput.CompactnessWorst),\n",
        "\t\t\t\t\t\t\t\t\t\t\t\tnameof(BreastCancerInput.ConcaveWorst),\n",
        "\t\t\t\t\t\t\t\t\t\t\t\tnameof(BreastCancerInput.ConcavityWorst),\n",
        "\t\t\t\t\t\t\t\t\t\t\t\tnameof(BreastCancerInput.SymmetryWorst),\n",
        "\t\t\t\t\t\t\t\t\t\t\t\tnameof(BreastCancerInput.FractialDimensionWorst)\n",
        "\t\t\t\t\t\t\t\t\t\t\t\t})\n",
        "\t\t\t\t\t.Append(mlContext.Transforms.NormalizeMinMax(\"Features\", \"Features\")\n",
        "\t\t\t\t\t.Append(model));\n",
        "\n",
        "var trainedModel = pipeline.Fit(dataSplit.TrainSet);"
      ],
      "outputs": []
    },
    {
      "cell_type": "markdown",
      "metadata": {},
      "source": [
        "8. Evaluate the model"
      ]
    },
    {
      "cell_type": "code",
      "execution_count": 1,
      "metadata": {
        "dotnet_interactive": {
          "language": "csharp"
        }
      },
      "source": [
        "var testSet = trainedModel.Transform(dataSplit.TestSet);\n",
        "var metrics = mlContext.BinaryClassification.Evaluate(testSet);\n",
        "\n",
        "metrics"
      ],
      "outputs": [
        {
          "output_type": "execute_result",
          "data": {
            "text/html": "<table><thead><tr><th>LogLoss</th><th>LogLossReduction</th><th>Entropy</th><th>AreaUnderRocCurve</th><th>Accuracy</th><th>PositivePrecision</th><th>PositiveRecall</th><th>NegativePrecision</th><th>NegativeRecall</th><th>F1Score</th><th>AreaUnderPrecisionRecallCurve</th><th>ConfusionMatrix</th></tr></thead><tbody><tr><td><div class=\"dni-plaintext\">0.24293294493966142</div></td><td><div class=\"dni-plaintext\">0.7324500024329291</div></td><td><div class=\"dni-plaintext\">0.9079908321761869</div></td><td><div class=\"dni-plaintext\">0.9908226810881678</div></td><td><div class=\"dni-plaintext\">0.9580838323353293</div></td><td><div class=\"dni-plaintext\">0.9607843137254902</div></td><td><div class=\"dni-plaintext\">0.9074074074074074</div></td><td><div class=\"dni-plaintext\">0.9568965517241379</div></td><td><div class=\"dni-plaintext\">0.9823008849557522</div></td><td><div class=\"dni-plaintext\">0.9333333333333333</div></td><td><div class=\"dni-plaintext\">0.9838390719351008</div></td><td><div class=\"dni-plaintext\">{ Microsoft.ML.Data.ConfusionMatrix: PerClassPrecision: [ 0.9607843137254902, 0.9568965517241379 ], PerClassRecall: [ 0.9074074074074074, 0.9823008849557522 ], Counts: [ [ 49, 5 ], [ 2, 111 ] ], NumberOfClasses: 2 }</div></td></tr></tbody></table>"
          },
          "execution_count": 1,
          "metadata": {}
        }
      ]
    },
    {
      "cell_type": "markdown",
      "metadata": {},
      "source": [
        "9. Save the model"
      ]
    },
    {
      "cell_type": "code",
      "execution_count": 1,
      "metadata": {
        "dotnet_interactive": {
          "language": "csharp"
        }
      },
      "source": [
        "mlContext.Model.Save(trainedModel, dataSplit.TrainSet.Schema, \"./BinaryClassification.mdl\");"
      ],
      "outputs": []
    },
    {
      "cell_type": "markdown",
      "metadata": {},
      "source": [
        "10. Load the model and test"
      ]
    },
    {
      "cell_type": "code",
      "execution_count": 1,
      "metadata": {
        "dotnet_interactive": {
          "language": "csharp"
        }
      },
      "source": [
        "var newSample = new BreastCancerInput\n",
        "{\n",
        "\tId = 842517F,\n",
        "    RadiusMean = 20.57F,\n",
        "    TextureMean = 17.77F,\n",
        "    PerimeterMean = 132.9F,\n",
        "    AreaMean = 1326F,\n",
        "    SmoothnessMean = 0.08474F,\n",
        "    CompactnessMean = 0.07864F,\n",
        "    ConcavityMean = 0.0869F,\n",
        "    ConcaveMean = 0.07017F,\n",
        "    SymmetryMean = 0.1812F,\n",
        "    FractialDimensionMean = 0.05667F,\n",
        "    RadiusSe = 0.5435F,\n",
        "    TextureSe = 0.7339F,\n",
        "    PerimeterSe = 3.398F,\n",
        "    AreaSe = 74.08F,\n",
        "    SmoothnessSe = 0.005225F,\n",
        "    CompactnessSe = 0.01308F,\n",
        "    ConcavitySe = 0.0186F,\n",
        "    ConcaveSe = 0.0134F,\n",
        "    SymmetrySe = 0.01389F,\n",
        "    FractialDimensionSe = 0.003532F,\n",
        "    RadiusWorst = 24.99F,\n",
        "    TextureWorst = 23.41F,\n",
        "    PerimeterWorst = 158.8F,\n",
        "    AreaWorst = 1956F,\n",
        "    SmoothnessWorst = 0.1238F,\n",
        "    CompactnessWorst = 0.1866F,\n",
        "    ConcavityWorst = 0.2416F,\n",
        "    ConcaveWorst = 0.186F,\n",
        "    SymmetryWorst = 0.275F,\n",
        "    FractialDimensionWorst = 0.08902F,\n",
        "};\n",
        "\n",
        "using (var stream = new FileStream(\"./BinaryClassification.mdl\", FileMode.Open, FileAccess.Read))\n",
        "{\n",
        "    var model = mlContext.Model.Load(stream, out var _);\n",
        "    var predictionEngine = mlContext.Model.CreatePredictionEngine<BreastCancerInput, BreastCancerOutput>(model);\n",
        "    var results = predictionEngine.Predict(newSample);\n",
        "\n",
        "    results.Display();\n",
        "}"
      ],
      "outputs": [
        {
          "output_type": "execute_result",
          "data": {
            "text/html": "<table><thead><tr><th>IsMalignant</th></tr></thead><tbody><tr><td><div class=\"dni-plaintext\">True</div></td></tr></tbody></table>"
          },
          "execution_count": 1,
          "metadata": {}
        }
      ]
    }
  ],
  "metadata": {
    "kernelspec": {
      "display_name": ".NET (C#)",
      "language": "C#",
      "name": ".net-csharp"
    },
    "language_info": {
      "file_extension": ".cs",
      "mimetype": "text/x-csharp",
      "name": "C#",
      "pygments_lexer": "csharp",
      "version": "8.0"
    }
  },
  "nbformat": 4,
  "nbformat_minor": 4
}