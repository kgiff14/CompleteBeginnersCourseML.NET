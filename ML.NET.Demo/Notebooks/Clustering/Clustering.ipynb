{
  "cells": [
    {
      "cell_type": "markdown",
      "metadata": {},
      "source": [
        "1. Install need nugets for the demo"
      ]
    },
    {
      "cell_type": "code",
      "execution_count": 1,
      "metadata": {
        "dotnet_interactive": {
          "language": "csharp"
        }
      },
      "source": [
        "#r \"nuget:Microsoft.ML,*-*\"\n",
        "#r \"nuget:Microsoft.Data.Analysis, *-*\"\n",
        "#r \"nuget:Microsoft.DotNet.Interactive.ExtensionLab,*-*\""
      ],
      "outputs": [
        {
          "output_type": "execute_result",
          "data": {
            "text/html": "<div><div></div><div></div><div><strong>Installed Packages</strong><ul><li><span>Microsoft.Data.Analysis, 0.20.0-preview.22313.1</span></li><li><span>Microsoft.DotNet.Interactive.ExtensionLab, 1.0.0-beta.22504.6</span></li><li><span>Microsoft.ML, 2.0.0-preview.22313.1</span></li></ul></div></div>"
          },
          "execution_count": 1,
          "metadata": {}
        }
      ]
    },
    {
      "cell_type": "markdown",
      "metadata": {},
      "source": [
        "2. Add global usings"
      ]
    },
    {
      "cell_type": "code",
      "execution_count": 1,
      "metadata": {
        "dotnet_interactive": {
          "language": "csharp"
        }
      },
      "source": [
        "using Microsoft.ML;\n",
        "using Microsoft.ML.Data;\n",
        "using Microsoft.Data.Analysis;\n",
        "using System.IO;\n",
        "using System.Text;"
      ],
      "outputs": []
    },
    {
      "cell_type": "markdown",
      "metadata": {},
      "source": [
        "3. Add input data model"
      ]
    },
    {
      "cell_type": "code",
      "execution_count": 1,
      "metadata": {
        "dotnet_interactive": {
          "language": "csharp"
        }
      },
      "source": [
        "public class MallInput\n",
        "{\n",
        "\t[LoadColumn(0)]\n",
        "\tpublic float CustId {get;set;}\n",
        "\n",
        "\t[LoadColumn(1)]\n",
        "\tpublic string Gender {get;set;}\n",
        "\n",
        "\t[LoadColumn(2)]\n",
        "\tpublic float Age {get;set;}\n",
        "\n",
        "\t[LoadColumn(3)]\n",
        "\tpublic float Income {get;set;}\n",
        "\t\n",
        "\t[LoadColumn(4)]\n",
        "\tpublic float Spending {get;set;}\n",
        "}\n",
        ""
      ],
      "outputs": []
    },
    {
      "cell_type": "markdown",
      "metadata": {},
      "source": [
        "4. Add output data model"
      ]
    },
    {
      "cell_type": "code",
      "execution_count": 1,
      "metadata": {
        "dotnet_interactive": {
          "language": "csharp"
        }
      },
      "source": [
        "public class MallOutput\n",
        "{\n",
        "\t[ColumnName(\"Score\")]\n",
        "\tpublic float[] Scores {get;set;}\n",
        "\n",
        "\t[ColumnName(\"PredictedLabel\")]\n",
        "\tpublic UInt32 Label {get;set;}\n",
        "}"
      ],
      "outputs": []
    },
    {
      "cell_type": "markdown",
      "metadata": {},
      "source": [
        "5. Load the dataset and split for test and training splits"
      ]
    },
    {
      "cell_type": "code",
      "execution_count": 1,
      "metadata": {
        "dotnet_interactive": {
          "language": "csharp"
        }
      },
      "source": [
        "var mlContext = new MLContext();\n",
        "var trainingData = mlContext.Data.LoadFromTextFile<MallInput>(\"../../../ML.NET.Demo/Assets/Mall_Customers.csv\", hasHeader: true, separatorChar: ',');\n",
        "var dataSplit = mlContext.Data.TrainTestSplit(trainingData, testFraction: 0.2);"
      ],
      "outputs": []
    },
    {
      "cell_type": "markdown",
      "metadata": {},
      "source": [
        "6. *Optional* Display dataset"
      ]
    },
    {
      "cell_type": "code",
      "execution_count": 1,
      "metadata": {
        "dotnet_interactive": {
          "language": "csharp"
        }
      },
      "source": [
        "dataSplit.TestSet.ToTabularDataResource().Display();"
      ],
      "outputs": []
    },
    {
      "cell_type": "markdown",
      "metadata": {},
      "source": [
        "7. Train the model (Feature Engineering)"
      ]
    },
    {
      "cell_type": "code",
      "execution_count": 1,
      "metadata": {
        "dotnet_interactive": {
          "language": "csharp"
        }
      },
      "source": [
        "var model = mlContext.Clustering.Trainers.KMeans(numberOfClusters: 3);\n",
        "\n",
        "var pipeline = mlContext.Transforms.Text.FeaturizeText(\"GenderFeature\", nameof(MallInput.Gender))\n",
        "\t\t\t\t\t.Append(mlContext.Transforms.Concatenate(\"Features\", new[]\n",
        "\t\t\t\t\t\t\t\t\t\t\t\t\t{\n",
        "\t\t\t\t\t\t\t\t\t\t\t\t\t\t\"GenderFeature\",\n",
        "\t\t\t\t\t\t\t\t\t\t\t\t\t\tnameof(MallInput.Age),\n",
        "\t\t\t\t\t\t\t\t\t\t\t\t\t\tnameof(MallInput.CustId),\n",
        "\t\t\t\t\t\t\t\t\t\t\t\t\t\tnameof(MallInput.Income),\n",
        "\t\t\t\t\t\t\t\t\t\t\t\t\t\tnameof(MallInput.Spending),\n",
        "\t\t\t\t\t\t\t\t\t\t\t\t\t}))\n",
        "\t\t\t\t\t.Append(mlContext.Transforms.NormalizeMinMax(\"Features\", \"Features\"))\n",
        "\t\t\t\t\t.Append(model);\n",
        "\n",
        "var trainedModel = pipeline.Fit(dataSplit.TrainSet);"
      ],
      "outputs": []
    },
    {
      "cell_type": "markdown",
      "metadata": {},
      "source": [
        "8. Evalute the model"
      ]
    },
    {
      "cell_type": "code",
      "execution_count": 1,
      "metadata": {
        "dotnet_interactive": {
          "language": "csharp"
        }
      },
      "source": [
        "var testSet = trainedModel.Transform(dataSplit.TestSet);\n",
        "var metrics = mlContext.Clustering.Evaluate(data: testSet,\n",
        "                                            labelColumnName: \"PredictedLabel\",\n",
        "                                            scoreColumnName: \"Score\",\n",
        "                                            featureColumnName: \"Features\");\n",
        "\n",
        "metrics"
      ],
      "outputs": [
        {
          "output_type": "execute_result",
          "data": {
            "text/html": "<table><thead><tr><th>NormalizedMutualInformation</th><th>AverageDistance</th><th>DaviesBouldinIndex</th></tr></thead><tbody><tr><td><div class=\"dni-plaintext\">1</div></td><td><div class=\"dni-plaintext\">0.20067281723022462</div></td><td><div class=\"dni-plaintext\">1.2843640074688942</div></td></tr></tbody></table>"
          },
          "execution_count": 1,
          "metadata": {}
        }
      ]
    },
    {
      "cell_type": "markdown",
      "metadata": {},
      "source": [
        "9. Save the model"
      ]
    },
    {
      "cell_type": "code",
      "execution_count": 1,
      "metadata": {
        "dotnet_interactive": {
          "language": "csharp"
        }
      },
      "source": [
        "mlContext.Model.Save(trainedModel, dataSplit.TrainSet.Schema, \"./Clustering.mdl\");"
      ],
      "outputs": []
    },
    {
      "cell_type": "markdown",
      "metadata": {},
      "source": [
        "10. Load the model and test"
      ]
    },
    {
      "cell_type": "code",
      "execution_count": 1,
      "metadata": {
        "dotnet_interactive": {
          "language": "csharp"
        }
      },
      "source": [
        "var newSample = new MallInput\n",
        "{\n",
        "\tGender = \"Male\",\n",
        "\tAge = 19f,\n",
        "\tIncome = 15f,\n",
        "\tSpending = 39f\n",
        "\n",
        "};\n",
        "\n",
        "using (var stream = new FileStream(\"./Clustering.mdl\", FileMode.Open, FileAccess.Read))\n",
        "{\n",
        "    var model = mlContext.Model.Load(stream, out var _);\n",
        "    var predictionEngine = mlContext.Model.CreatePredictionEngine<MallInput, MallOutput>(model);\n",
        "    var results = predictionEngine.Predict(newSample);\n",
        "\n",
        "    results.Display();\n",
        "}"
      ],
      "outputs": [
        {
          "output_type": "execute_result",
          "data": {
            "text/html": "<table><thead><tr><th>Scores</th><th>Label</th></tr></thead><tbody><tr><td><div class=\"dni-plaintext\">[ 0.45443535, 6.658345, 6.5866833 ]</div></td><td><div class=\"dni-plaintext\">1</div></td></tr></tbody></table>"
          },
          "execution_count": 1,
          "metadata": {}
        }
      ]
    }
  ],
  "metadata": {
    "kernelspec": {
      "display_name": ".NET (C#)",
      "language": "C#",
      "name": ".net-csharp"
    },
    "language_info": {
      "file_extension": ".cs",
      "mimetype": "text/x-csharp",
      "name": "C#",
      "pygments_lexer": "csharp",
      "version": "8.0"
    }
  },
  "nbformat": 4,
  "nbformat_minor": 4
}