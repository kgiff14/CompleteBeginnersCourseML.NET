{
  "cells": [
    {
      "cell_type": "markdown",
      "metadata": {},
      "source": [
        "1. Install needed nugets for the demo"
      ]
    },
    {
      "cell_type": "code",
      "execution_count": 1,
      "metadata": {
        "dotnet_interactive": {
          "language": "csharp"
        }
      },
      "source": [
        "#r \"nuget:Microsoft.ML,*-*\"\n",
        "#r \"nuget:Microsoft.Data.Analysis, *-*\"\n",
        "#r \"nuget:Microsoft.DotNet.Interactive.ExtensionLab,*-*\"\n",
        "#r \"nuget:Microsoft.ML.TimeSeries,*-*\""
      ],
      "outputs": [
        {
          "output_type": "execute_result",
          "data": {
            "text/html": "<div><div></div><div></div><div><strong>Installed Packages</strong><ul><li><span>Microsoft.Data.Analysis, 0.20.0-preview.22313.1</span></li><li><span>Microsoft.DotNet.Interactive.ExtensionLab, 1.0.0-beta.22504.6</span></li><li><span>Microsoft.ML, 2.0.0-preview.22313.1</span></li><li><span>Microsoft.ML.TimeSeries, 2.0.0-preview.22313.1</span></li></ul></div></div>"
          },
          "execution_count": 1,
          "metadata": {}
        }
      ]
    },
    {
      "cell_type": "markdown",
      "metadata": {},
      "source": [
        "2. Add global usings"
      ]
    },
    {
      "cell_type": "code",
      "execution_count": 1,
      "metadata": {
        "dotnet_interactive": {
          "language": "csharp"
        }
      },
      "source": [
        "using Microsoft.ML;\n",
        "using Microsoft.ML.Data;\n",
        "using Microsoft.Data.Analysis;\n",
        "using Microsoft.ML.Transforms.TimeSeries;\n",
        "using System.IO;\n",
        "using System.Text;"
      ],
      "outputs": []
    },
    {
      "cell_type": "markdown",
      "metadata": {},
      "source": [
        "3. Create input data model"
      ]
    },
    {
      "cell_type": "code",
      "execution_count": 1,
      "metadata": {
        "dotnet_interactive": {
          "language": "csharp"
        }
      },
      "source": [
        "public class BitcoinInput\n",
        "{\n",
        "\t[LoadColumn(1)]\n",
        "\tpublic float Open {get;set;}\n",
        "}"
      ],
      "outputs": []
    },
    {
      "cell_type": "markdown",
      "metadata": {},
      "source": [
        "4. Create output data model"
      ]
    },
    {
      "cell_type": "code",
      "execution_count": 1,
      "metadata": {
        "dotnet_interactive": {
          "language": "csharp"
        }
      },
      "source": [
        "public class BitcoinOutput\n",
        "{\n",
        "\t[ColumnName(\"Open\")]\n",
        "\tpublic float[] Open { get; set; }\n",
        "\n",
        "    [ColumnName(\"Open_LB\")]\n",
        "    public float[] Open_LB { get; set; }\n",
        "\n",
        "    [ColumnName(\"Open_UB\")]\n",
        "    public float[] Open_UB { get; set; }\n",
        "}"
      ],
      "outputs": []
    },
    {
      "cell_type": "markdown",
      "metadata": {},
      "source": [
        "5. Load the dataset and split to training and test splits"
      ]
    },
    {
      "cell_type": "code",
      "execution_count": 1,
      "metadata": {
        "dotnet_interactive": {
          "language": "csharp"
        }
      },
      "source": [
        "var mlContext = new MLContext();\n",
        "var trainingData = mlContext.Data.LoadFromTextFile<BitcoinInput>(\"../../../ML.NET.Demo/Assets/BTC-USD.csv\", hasHeader: true, separatorChar: ',');\n",
        "var dataSplit = mlContext.Data.TrainTestSplit(trainingData, testFraction: 0.2);"
      ],
      "outputs": []
    },
    {
      "cell_type": "markdown",
      "metadata": {},
      "source": [
        "6. *Optional* Display the dataset"
      ]
    },
    {
      "cell_type": "code",
      "execution_count": 1,
      "metadata": {
        "dotnet_interactive": {
          "language": "csharp"
        }
      },
      "source": [
        "dataSplit.TestSet.ToTabularDataResource().Display();"
      ],
      "outputs": []
    },
    {
      "cell_type": "markdown",
      "metadata": {},
      "source": [
        "7. Train the model (Feature Engineering)"
      ]
    },
    {
      "cell_type": "code",
      "execution_count": 1,
      "metadata": {
        "dotnet_interactive": {
          "language": "csharp"
        }
      },
      "source": [
        "var model = mlContext.Forecasting.ForecastBySsa(windowSize:10, seriesLength:23, trainSize:2788, horizon:30, outputColumnName: \"Open\", inputColumnName: nameof(BitcoinInput.Open), confidenceLowerBoundColumn: \"Open_LB\", confidenceUpperBoundColumn: \"Open_UB\");\n",
        "\n",
        "var trainedModel = model.Fit(dataSplit.TrainSet);"
      ],
      "outputs": []
    },
    {
      "cell_type": "markdown",
      "metadata": {},
      "source": [
        "8. Save the model"
      ]
    },
    {
      "cell_type": "code",
      "execution_count": 1,
      "metadata": {
        "dotnet_interactive": {
          "language": "csharp"
        }
      },
      "source": [
        "var predictionEngine = trainedModel.CreateTimeSeriesEngine<BitcoinInput, BitcoinOutput>(mlContext);\n",
        "\n",
        "predictionEngine.CheckPoint(mlContext, \"./Forecast.zip\");"
      ],
      "outputs": []
    },
    {
      "cell_type": "markdown",
      "metadata": {},
      "source": [
        "9.  Load and test"
      ]
    },
    {
      "cell_type": "code",
      "execution_count": 1,
      "metadata": {
        "dotnet_interactive": {
          "language": "csharp"
        }
      },
      "source": [
        "using (var file = File.OpenRead(\"./Forecast.zip\"))\n",
        "{\n",
        "    ITransformer model = mlContext.Model.Load(file, out DataViewSchema  _);\n",
        "\tvar predictionEngineCopy = model.CreateTimeSeriesEngine<BitcoinInput, BitcoinOutput>(mlContext);\n",
        "    var results = predictionEngineCopy.Predict();\n",
        "\n",
        "    results.Display();\n",
        "}"
      ],
      "outputs": [
        {
          "output_type": "execute_result",
          "data": {
            "text/html": "<table><thead><tr><th>Open</th><th>Open_LB</th><th>Open_UB</th></tr></thead><tbody><tr><td><div class=\"dni-plaintext\">[ 39870.12, 40174.203, 40143.996, 39902.65, 39601.7, 39355.04, 39236.12, 39283.95, 39474.676, 39674.402, 39829.6, 39889.742, 39840.773, 39711.9, 39559.043, 39434.707, 39365.66, 39353.61, 39383.973, 39422.285 ... (10 more) ]</div></td><td><div class=\"dni-plaintext\">[ 38627.58, 38166.48, 37382.383, 36483.855, 35645.16, 34952.273, 34426.188, 34071.625, 33861.918, 33611.65, 33281.11, 32836.207, 32282.021, 31664.664, 31050.57, 30494.057, 30013.723, 29599.45, 29230.514, 28866.51 ... (10 more) ]</div></td><td><div class=\"dni-plaintext\">[ 41112.664, 42181.926, 42905.61, 43321.44, 43558.24, 43757.805, 44046.055, 44496.273, 45087.434, 45737.156, 46378.094, 46943.277, 47399.523, 47759.133, 48067.516, 48375.36, 48717.598, 49107.77, 49537.434, 49978.062 ... (10 more) ]</div></td></tr></tbody></table>"
          },
          "execution_count": 1,
          "metadata": {}
        }
      ]
    }
  ],
  "metadata": {
    "kernelspec": {
      "display_name": ".NET (C#)",
      "language": "C#",
      "name": ".net-csharp"
    },
    "language_info": {
      "file_extension": ".cs",
      "mimetype": "text/x-csharp",
      "name": "C#",
      "pygments_lexer": "csharp",
      "version": "8.0"
    }
  },
  "nbformat": 4,
  "nbformat_minor": 4
}