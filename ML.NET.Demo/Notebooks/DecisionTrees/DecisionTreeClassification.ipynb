{
  "cells": [
    {
      "cell_type": "markdown",
      "metadata": {},
      "source": [
        "1. Install needed Nugets for demo"
      ]
    },
    {
      "cell_type": "code",
      "execution_count": 1,
      "metadata": {
        "dotnet_interactive": {
          "language": "csharp"
        }
      },
      "source": [
        "#r \"nuget:Microsoft.ML,*-*\"\n",
        "#r \"nuget:Microsoft.Data.Analysis, *-*\"\n",
        "#r \"nuget:Microsoft.DotNet.Interactive.ExtensionLab,*-*\"\n",
        "#r \"nuget:Microsoft.ML.LightGbm, *-*\""
      ],
      "outputs": [
        {
          "output_type": "execute_result",
          "data": {
            "text/html": "<div><div></div><div></div><div><strong>Installed Packages</strong><ul><li><span>Microsoft.Data.Analysis, 0.20.0-preview.22313.1</span></li><li><span>Microsoft.DotNet.Interactive.ExtensionLab, 1.0.0-beta.22504.6</span></li><li><span>Microsoft.ML, 2.0.0-preview.22313.1</span></li><li><span>Microsoft.ML.LightGbm, 2.0.0-preview.22313.1</span></li></ul></div></div>"
          },
          "execution_count": 1,
          "metadata": {}
        }
      ]
    },
    {
      "cell_type": "markdown",
      "metadata": {},
      "source": [
        "2. Add global usings"
      ]
    },
    {
      "cell_type": "code",
      "execution_count": 1,
      "metadata": {
        "dotnet_interactive": {
          "language": "csharp"
        }
      },
      "source": [
        "using Microsoft.ML;\n",
        "using Microsoft.ML.Data;\n",
        "using Microsoft.Data.Analysis;\n",
        "using System.IO;\n",
        "using System.Text;"
      ],
      "outputs": []
    },
    {
      "cell_type": "markdown",
      "metadata": {},
      "source": [
        "3. Create input data model"
      ]
    },
    {
      "cell_type": "code",
      "execution_count": 1,
      "metadata": {
        "dotnet_interactive": {
          "language": "csharp"
        }
      },
      "source": [
        "public class PersonalityInput\n",
        "{\n",
        "\t[LoadColumn(0)]\n",
        "\tpublic float ResponseId {get;set;}\n",
        "\n",
        "\t[LoadColumn(1)]\n",
        "\tpublic float Question1 {get;set;}\n",
        "\n",
        "\t[LoadColumn(2)]\n",
        "\tpublic float Question2 {get;set;}\n",
        "\n",
        "\t[LoadColumn(3)]\n",
        "\tpublic float Question3 {get;set;}\n",
        "\n",
        "\t[LoadColumn(4)]\n",
        "\tpublic float Question4 {get;set;}\n",
        "\n",
        "\t[LoadColumn(5)]\n",
        "\tpublic float Question5 {get;set;}\n",
        "\n",
        "\t[LoadColumn(6)]\n",
        "\tpublic float Question6 {get;set;}\n",
        "\n",
        "\t[LoadColumn(7)]\n",
        "\tpublic float Question7 {get;set;}\n",
        "\n",
        "\t[LoadColumn(8)]\n",
        "\tpublic float Question8 {get;set;}\n",
        "\n",
        "\t[LoadColumn(9)]\n",
        "\tpublic float Question9 {get;set;}\n",
        "\n",
        "\t[LoadColumn(10)]\n",
        "\tpublic float Question10 {get;set;}\n",
        "\n",
        "\t[LoadColumn(11)]\n",
        "\tpublic float Question11 {get;set;}\n",
        "\n",
        "\t[LoadColumn(12)]\n",
        "\tpublic float Question12 {get;set;}\n",
        "\n",
        "\t[LoadColumn(13)]\n",
        "\tpublic float Question13 {get;set;}\n",
        "\n",
        "\t[LoadColumn(14)]\n",
        "\tpublic float Question14 {get;set;}\n",
        "\n",
        "\t[LoadColumn(15)]\n",
        "\tpublic float Question15 {get;set;}\n",
        "\n",
        "\t[LoadColumn(16)]\n",
        "\tpublic float Question16 {get;set;}\n",
        "\n",
        "\t[LoadColumn(17)]\n",
        "\tpublic float Question17 {get;set;}\n",
        "\n",
        "\t[LoadColumn(18)]\n",
        "\tpublic float Question18 {get;set;}\n",
        "\n",
        "\t[LoadColumn(19)]\n",
        "\tpublic float Question19 {get;set;}\n",
        "\n",
        "\t[LoadColumn(20)]\n",
        "\tpublic float Question20 {get;set;}\n",
        "\n",
        "\t[LoadColumn(21)]\n",
        "\tpublic float Question21 {get;set;}\n",
        "\n",
        "\t[LoadColumn(22)]\n",
        "\tpublic float Question22 {get;set;}\n",
        "\n",
        "\t[LoadColumn(23)]\n",
        "\tpublic float Question23 {get;set;}\n",
        "\n",
        "\t[LoadColumn(24)]\n",
        "\tpublic float Question24 {get;set;}\n",
        "\n",
        "\t[LoadColumn(25)]\n",
        "\tpublic float Question25 {get;set;}\n",
        "\n",
        "\t[LoadColumn(26)]\n",
        "\tpublic float Question26 {get;set;}\n",
        "\n",
        "\t[LoadColumn(27)]\n",
        "\tpublic float Question27 {get;set;}\n",
        "\n",
        "\t[LoadColumn(28)]\n",
        "\tpublic float Question28 {get;set;}\n",
        "\n",
        "\t[LoadColumn(29)]\n",
        "\tpublic float Question29 {get;set;}\n",
        "\n",
        "\t[LoadColumn(30)]\n",
        "\tpublic float Question30 {get;set;}\n",
        "\n",
        "\t[LoadColumn(31)]\n",
        "\tpublic float Question31 {get;set;}\n",
        "\n",
        "\t[LoadColumn(32)]\n",
        "\tpublic float Question32 {get;set;}\n",
        "\n",
        "\t[LoadColumn(33)]\n",
        "\tpublic float Question33 {get;set;}\n",
        "\n",
        "\t[LoadColumn(34)]\n",
        "\tpublic float Question34 {get;set;}\n",
        "\n",
        "\t[LoadColumn(35)]\n",
        "\tpublic float Question35 {get;set;}\n",
        "\n",
        "\t[LoadColumn(36)]\n",
        "\tpublic float Question36 {get;set;}\n",
        "\n",
        "\t[LoadColumn(37)]\n",
        "\tpublic float Question37 {get;set;}\n",
        "\n",
        "\t[LoadColumn(38)]\n",
        "\tpublic float Question38 {get;set;}\n",
        "\n",
        "\t[LoadColumn(39)]\n",
        "\tpublic float Question39 {get;set;}\n",
        "\n",
        "\t[LoadColumn(40)]\n",
        "\tpublic float Question40 {get;set;}\n",
        "\n",
        "\t[LoadColumn(41)]\n",
        "\tpublic float Question41 {get;set;}\n",
        "\n",
        "\t[LoadColumn(42)]\n",
        "\tpublic float Question42 {get;set;}\n",
        "\n",
        "\t[LoadColumn(43)]\n",
        "\tpublic float Question43 {get;set;}\n",
        "\n",
        "\t[LoadColumn(44)]\n",
        "\tpublic float Question44 {get;set;}\n",
        "\n",
        "\t[LoadColumn(45)]\n",
        "\tpublic float Question45 {get;set;}\n",
        "\n",
        "\t[LoadColumn(46)]\n",
        "\tpublic float Question46 {get;set;}\n",
        "\n",
        "\t[LoadColumn(47)]\n",
        "\tpublic float Question47 {get;set;}\n",
        "\n",
        "\t[LoadColumn(48)]\n",
        "\tpublic float Question48 {get;set;}\n",
        "\n",
        "\t[LoadColumn(49)]\n",
        "\tpublic float Question49 {get;set;}\n",
        "\n",
        "\t[LoadColumn(50)]\n",
        "\tpublic float Question50 {get;set;}\n",
        "\n",
        "\t[LoadColumn(51)]\n",
        "\tpublic float Question51 {get;set;}\n",
        "\n",
        "\t[LoadColumn(52)]\n",
        "\tpublic float Question52 {get;set;}\n",
        "\n",
        "\t[LoadColumn(53)]\n",
        "\tpublic float Question53 {get;set;}\n",
        "\n",
        "\t[LoadColumn(54)]\n",
        "\tpublic float Question54 {get;set;}\n",
        "\n",
        "\t[LoadColumn(55)]\n",
        "\tpublic float Question55 {get;set;}\n",
        "\n",
        "\t[LoadColumn(56)]\n",
        "\tpublic float Question56 {get;set;}\n",
        "\n",
        "\t[LoadColumn(57)]\n",
        "\tpublic float Question57 {get;set;}\n",
        "\n",
        "\t[LoadColumn(58)]\n",
        "\tpublic float Question58 {get;set;}\n",
        "\n",
        "\t[LoadColumn(59)]\n",
        "\tpublic float Question59 {get;set;}\n",
        "\n",
        "\t[LoadColumn(60)]\n",
        "\tpublic float Question60 {get;set;}\n",
        "\n",
        "\t[LoadColumn(61)]\n",
        "\tpublic string Personality {get;set;}\n",
        "}"
      ],
      "outputs": []
    },
    {
      "cell_type": "markdown",
      "metadata": {},
      "source": [
        "4. Create data model output"
      ]
    },
    {
      "cell_type": "code",
      "execution_count": 1,
      "metadata": {
        "dotnet_interactive": {
          "language": "csharp"
        }
      },
      "source": [
        "public class PersonalityOutput\n",
        "{\n",
        "\t[ColumnName(\"PredictedLabel\")]\n",
        "\tpublic string Personality {get;set;}\n",
        "}"
      ],
      "outputs": []
    },
    {
      "cell_type": "markdown",
      "metadata": {},
      "source": [
        "5. Load the dataset and split to test and train splits"
      ]
    },
    {
      "cell_type": "code",
      "execution_count": 1,
      "metadata": {
        "dotnet_interactive": {
          "language": "csharp"
        }
      },
      "source": [
        "var mlContext = new MLContext();\n",
        "var trainingData = mlContext.Data.LoadFromTextFile<PersonalityInput>(\"../../../ML.NET.Demo/Assets/16P.csv\", hasHeader: true, separatorChar: ',');\n",
        "var dataSplit = mlContext.Data.TrainTestSplit(trainingData, testFraction: 0.2);"
      ],
      "outputs": []
    },
    {
      "cell_type": "markdown",
      "metadata": {},
      "source": [
        "6. *Optional* Display dataset"
      ]
    },
    {
      "cell_type": "code",
      "execution_count": 1,
      "metadata": {
        "dotnet_interactive": {
          "language": "csharp"
        }
      },
      "source": [
        "dataSplit.TestSet.ToTabularDataResource().Display();"
      ],
      "outputs": []
    },
    {
      "cell_type": "markdown",
      "metadata": {},
      "source": [
        "7. Train the model (Feature Engineering)"
      ]
    },
    {
      "cell_type": "code",
      "execution_count": 1,
      "metadata": {
        "dotnet_interactive": {
          "language": "csharp"
        }
      },
      "source": [
        "var model = mlContext.MulticlassClassification.Trainers.LightGbm();\n",
        "\n",
        "var pipeline = mlContext.Transforms.Conversion.MapValueToKey(inputColumnName: nameof(PersonalityInput.Personality), outputColumnName: \"Label\")\n",
        "\t\t\t\t\t.Append(mlContext.Transforms.Concatenate(\"Features\", new[]\n",
        "\t\t\t\t\t\t\t\t\t\t\t\t\t\t\t\t{\n",
        "\t\t\t\t\t\t\t\t\t\t\t\t\t\t\t\t\tnameof(PersonalityInput.Question1),\n",
        "\t\t\t\t\t\t\t\t\t\t\t\t\t\t\t\t\tnameof(PersonalityInput.Question2),\n",
        "\t\t\t\t\t\t\t\t\t\t\t\t\t\t\t\t\tnameof(PersonalityInput.Question3),\n",
        "\t\t\t\t\t\t\t\t\t\t\t\t\t\t\t\t\tnameof(PersonalityInput.Question4),\n",
        "\t\t\t\t\t\t\t\t\t\t\t\t\t\t\t\t\tnameof(PersonalityInput.Question5),\n",
        "\t\t\t\t\t\t\t\t\t\t\t\t\t\t\t\t\tnameof(PersonalityInput.Question6),\n",
        "\t\t\t\t\t\t\t\t\t\t\t\t\t\t\t\t\tnameof(PersonalityInput.Question7),\n",
        "\t\t\t\t\t\t\t\t\t\t\t\t\t\t\t\t\tnameof(PersonalityInput.Question8),\n",
        "\t\t\t\t\t\t\t\t\t\t\t\t\t\t\t\t\tnameof(PersonalityInput.Question9),\n",
        "\t\t\t\t\t\t\t\t\t\t\t\t\t\t\t\t\tnameof(PersonalityInput.Question10),\n",
        "\t\t\t\t\t\t\t\t\t\t\t\t\t\t\t\t\tnameof(PersonalityInput.Question11),\n",
        "\t\t\t\t\t\t\t\t\t\t\t\t\t\t\t\t\tnameof(PersonalityInput.Question12),\n",
        "\t\t\t\t\t\t\t\t\t\t\t\t\t\t\t\t\tnameof(PersonalityInput.Question13),\n",
        "\t\t\t\t\t\t\t\t\t\t\t\t\t\t\t\t\tnameof(PersonalityInput.Question14),\n",
        "\t\t\t\t\t\t\t\t\t\t\t\t\t\t\t\t\tnameof(PersonalityInput.Question15),\n",
        "\t\t\t\t\t\t\t\t\t\t\t\t\t\t\t\t\tnameof(PersonalityInput.Question16),\n",
        "\t\t\t\t\t\t\t\t\t\t\t\t\t\t\t\t\tnameof(PersonalityInput.Question17),\n",
        "\t\t\t\t\t\t\t\t\t\t\t\t\t\t\t\t\tnameof(PersonalityInput.Question18),\n",
        "\t\t\t\t\t\t\t\t\t\t\t\t\t\t\t\t\tnameof(PersonalityInput.Question19),\n",
        "\t\t\t\t\t\t\t\t\t\t\t\t\t\t\t\t\tnameof(PersonalityInput.Question20),\n",
        "\t\t\t\t\t\t\t\t\t\t\t\t\t\t\t\t\tnameof(PersonalityInput.Question21),\n",
        "\t\t\t\t\t\t\t\t\t\t\t\t\t\t\t\t\tnameof(PersonalityInput.Question22),\n",
        "\t\t\t\t\t\t\t\t\t\t\t\t\t\t\t\t\tnameof(PersonalityInput.Question23),\n",
        "\t\t\t\t\t\t\t\t\t\t\t\t\t\t\t\t\tnameof(PersonalityInput.Question24),\n",
        "\t\t\t\t\t\t\t\t\t\t\t\t\t\t\t\t\tnameof(PersonalityInput.Question25),\n",
        "\t\t\t\t\t\t\t\t\t\t\t\t\t\t\t\t\tnameof(PersonalityInput.Question26),\n",
        "\t\t\t\t\t\t\t\t\t\t\t\t\t\t\t\t\tnameof(PersonalityInput.Question27),\n",
        "\t\t\t\t\t\t\t\t\t\t\t\t\t\t\t\t\tnameof(PersonalityInput.Question28),\n",
        "\t\t\t\t\t\t\t\t\t\t\t\t\t\t\t\t\tnameof(PersonalityInput.Question29),\n",
        "\t\t\t\t\t\t\t\t\t\t\t\t\t\t\t\t\tnameof(PersonalityInput.Question30),\n",
        "\t\t\t\t\t\t\t\t\t\t\t\t\t\t\t\t\tnameof(PersonalityInput.Question31),\n",
        "\t\t\t\t\t\t\t\t\t\t\t\t\t\t\t\t\tnameof(PersonalityInput.Question32),\n",
        "\t\t\t\t\t\t\t\t\t\t\t\t\t\t\t\t\tnameof(PersonalityInput.Question33),\n",
        "\t\t\t\t\t\t\t\t\t\t\t\t\t\t\t\t\tnameof(PersonalityInput.Question34),\n",
        "\t\t\t\t\t\t\t\t\t\t\t\t\t\t\t\t\tnameof(PersonalityInput.Question35),\n",
        "\t\t\t\t\t\t\t\t\t\t\t\t\t\t\t\t\tnameof(PersonalityInput.Question36),\n",
        "\t\t\t\t\t\t\t\t\t\t\t\t\t\t\t\t\tnameof(PersonalityInput.Question37),\n",
        "\t\t\t\t\t\t\t\t\t\t\t\t\t\t\t\t\tnameof(PersonalityInput.Question38),\n",
        "\t\t\t\t\t\t\t\t\t\t\t\t\t\t\t\t\tnameof(PersonalityInput.Question39),\n",
        "\t\t\t\t\t\t\t\t\t\t\t\t\t\t\t\t\tnameof(PersonalityInput.Question40),\n",
        "\t\t\t\t\t\t\t\t\t\t\t\t\t\t\t\t\tnameof(PersonalityInput.Question41),\n",
        "\t\t\t\t\t\t\t\t\t\t\t\t\t\t\t\t\tnameof(PersonalityInput.Question42),\n",
        "\t\t\t\t\t\t\t\t\t\t\t\t\t\t\t\t\tnameof(PersonalityInput.Question43),\n",
        "\t\t\t\t\t\t\t\t\t\t\t\t\t\t\t\t\tnameof(PersonalityInput.Question44),\n",
        "\t\t\t\t\t\t\t\t\t\t\t\t\t\t\t\t\tnameof(PersonalityInput.Question45),\n",
        "\t\t\t\t\t\t\t\t\t\t\t\t\t\t\t\t\tnameof(PersonalityInput.Question46),\n",
        "\t\t\t\t\t\t\t\t\t\t\t\t\t\t\t\t\tnameof(PersonalityInput.Question47),\n",
        "\t\t\t\t\t\t\t\t\t\t\t\t\t\t\t\t\tnameof(PersonalityInput.Question48),\n",
        "\t\t\t\t\t\t\t\t\t\t\t\t\t\t\t\t\tnameof(PersonalityInput.Question49),\n",
        "\t\t\t\t\t\t\t\t\t\t\t\t\t\t\t\t\tnameof(PersonalityInput.Question50),\n",
        "\t\t\t\t\t\t\t\t\t\t\t\t\t\t\t\t\tnameof(PersonalityInput.Question51),\n",
        "\t\t\t\t\t\t\t\t\t\t\t\t\t\t\t\t\tnameof(PersonalityInput.Question52),\n",
        "\t\t\t\t\t\t\t\t\t\t\t\t\t\t\t\t\tnameof(PersonalityInput.Question53),\n",
        "\t\t\t\t\t\t\t\t\t\t\t\t\t\t\t\t\tnameof(PersonalityInput.Question54),\n",
        "\t\t\t\t\t\t\t\t\t\t\t\t\t\t\t\t\tnameof(PersonalityInput.Question55),\n",
        "\t\t\t\t\t\t\t\t\t\t\t\t\t\t\t\t\tnameof(PersonalityInput.Question56),\n",
        "\t\t\t\t\t\t\t\t\t\t\t\t\t\t\t\t\tnameof(PersonalityInput.Question57),\n",
        "\t\t\t\t\t\t\t\t\t\t\t\t\t\t\t\t\tnameof(PersonalityInput.Question58),\n",
        "\t\t\t\t\t\t\t\t\t\t\t\t\t\t\t\t\tnameof(PersonalityInput.Question59),\n",
        "\t\t\t\t\t\t\t\t\t\t\t\t\t\t\t\t\tnameof(PersonalityInput.Question60)\n",
        "\t\t\t\t\t\t\t\t\t\t\t\t\t\t\t\t}))\n",
        "\t\t\t\t\t.Append(model)\n",
        "\t\t\t\t\t.Append(mlContext.Transforms.Conversion.MapKeyToValue(\"PredictedLabel\"));\n",
        "\n",
        "var trainedModel = pipeline.Fit(dataSplit.TrainSet);"
      ],
      "outputs": []
    },
    {
      "cell_type": "markdown",
      "metadata": {},
      "source": [
        "8. Evaluate the model"
      ]
    },
    {
      "cell_type": "code",
      "execution_count": 1,
      "metadata": {
        "dotnet_interactive": {
          "language": "csharp"
        }
      },
      "source": [
        "var testSet = trainedModel.Transform(dataSplit.TestSet);\n",
        "var metrics = mlContext.MulticlassClassification.Evaluate(testSet);\n",
        "\n",
        "metrics"
      ],
      "outputs": [
        {
          "output_type": "execute_result",
          "data": {
            "text/html": "<table><thead><tr><th>LogLoss</th><th>LogLossReduction</th><th>MacroAccuracy</th><th>MicroAccuracy</th><th>TopKAccuracy</th><th>TopKPredictionCount</th><th>TopKAccuracyForAllK</th><th>PerClassLogLoss</th><th>ConfusionMatrix</th></tr></thead><tbody><tr><td><div class=\"dni-plaintext\">0.15643107402372344</div></td><td><div class=\"dni-plaintext\">0.9435685036151636</div></td><td><div class=\"dni-plaintext\">0.977290013000022</div></td><td><div class=\"dni-plaintext\">0.9772975699991592</div></td><td><div class=\"dni-plaintext\">0</div></td><td><div class=\"dni-plaintext\">0</div></td><td><div class=\"dni-plaintext\">&lt;null&gt;</div></td><td><div class=\"dni-plaintext\">[ 0.13446625466502063, 0.18546617123934173, 0.14327420088015594, 0.15358236540436015, 0.11449511818994396, 0.1535101328178607, 0.1158553960144158, 0.13720815711201412, 0.13727100557634866, 0.16317510940893062, 0.13663483099055812, 0.21223869521983413, 0.15593851952704585, 0.15234171759635096, 0.1691331466733044, 0.23718768320822695 ]</div></td><td><div class=\"dni-plaintext\">{ Microsoft.ML.Data.ConfusionMatrix: PerClassPrecision: [ 0.9766081871345029, 0.9751958224543081, 0.977027027027027, 0.9716859716859717, 0.9878213802435724, 0.9618008185538881, 0.981081081081081, 0.9807692307692307, 0.9731113956466069, 0.9762219286657859, 0.9764705882352941, 0.9884726224783862, 0.9777777777777777, 0.9838056680161943, 0.9767123287671233, 0.9734395750332006 ], PerClassRecall: [ 0.9780380673499268, 0.9777486910994765, 0.9810040705563093, 0.9792477302204928, 0.9838274932614556, 0.9764542936288089, 0.9850746268656716, 0.9807692307692307, 0.979381443298969, 0.9762219286657859, 0.9764705882352941, 0.9689265536723164, 0.9765013054830287, 0.9824797843665768, 0.96875, 0.9657444005270093 ], Counts: [ [ 668, 2, 0, 0, 1, 2, 0, 1, 0, 3, 1, 1, 0, 0, 2, 2 ], [ 0, 747, 2, 2, 0, 3, 1, 0, 3, 0, 2, 1, 1, 0, 1, 1 ], [ 1, 3, 723, 1, 0, 2, 0, 3, 0, 1, 1, 1, 0, 0, 0, 1 ], [ 1, 4, 1, 755, 1, 1, 1, 2, 0, 0, 0, 0, 2, 0, 0, 3 ], [ 0, 2, 1, 1, 730, 0, 0, 0, 1, 1, 0, 0, 3, 0, 0, 3 ], [ 1, 1, 1, 2, 0, 705, 1, 0, 2, 1, 4, 1, 2, 0, 1, 0 ], [ 0, 0, 1, 1, 0, 1, 726, 0, 2, 0, 1, 0, 1, 0, 3, 1 ], [ 0, 0, 0, 1, 1, 2, 0, 714, 0, 3, 0, 0, 2, 3, 2, 0 ], [ 1, 2, 1, 0, 1, 2, 0, 0, 760, 0, 4, 0, 3, 0, 1, 1 ], [ 2, 0, 1, 1, 0, 3, 0, 4, 1, 739, 2, 1, 0, 1, 2, 0 ], [ 0, 1, 1, 5, 0, 2, 2, 0, 2, 2, 747, 0, 2, 1, 0, 0 ], [ 1, 3, 2, 2, 0, 0, 4, 0, 1, 3, 0, 686, 1, 3, 1, 1 ], [ 2, 0, 0, 3, 1, 2, 0, 2, 2, 0, 2, 0, 748, 3, 1, 0 ], [ 3, 1, 0, 0, 1, 0, 1, 1, 2, 0, 1, 1, 0, 729, 1, 1 ], [ 1, 0, 2, 1, 1, 2, 2, 1, 4, 2, 0, 1, 0, 0, 713, 6 ], [ 3, 0, 4, 2, 2, 6, 2, 0, 1, 2, 0, 1, 0, 1, 2, 733 ] ], NumberOfClasses: 16 }</div></td></tr></tbody></table>"
          },
          "execution_count": 1,
          "metadata": {}
        }
      ]
    },
    {
      "cell_type": "markdown",
      "metadata": {},
      "source": [
        "9. Save the model"
      ]
    },
    {
      "cell_type": "code",
      "execution_count": 1,
      "metadata": {
        "dotnet_interactive": {
          "language": "csharp"
        }
      },
      "source": [
        "mlContext.Model.Save(trainedModel, dataSplit.TrainSet.Schema, \"./DecisionTreeClassification.mdl\");"
      ],
      "outputs": []
    },
    {
      "cell_type": "markdown",
      "metadata": {},
      "source": [
        "10. Load the model and test"
      ]
    },
    {
      "cell_type": "code",
      "execution_count": 1,
      "metadata": {
        "dotnet_interactive": {
          "language": "csharp"
        }
      },
      "source": [
        "var newSample = new PersonalityInput\n",
        "{\n",
        "\tQuestion1 = 0f,\n",
        "\tQuestion2 = 0f,\n",
        "\tQuestion3 = 0f,\n",
        "\tQuestion4 = 0f,\n",
        "\tQuestion5 = 0f,\n",
        "\tQuestion6 = 1f,\n",
        "\tQuestion7 = 1f,\n",
        "\tQuestion8 = 0f,\n",
        "\tQuestion9 = 0f,\n",
        "\tQuestion10 = 0f,\n",
        "\tQuestion11 = 0f,\n",
        "\tQuestion12 = 1f,\n",
        "\tQuestion13 = 1f,\n",
        "\tQuestion14 = 0f,\n",
        "\tQuestion15 = 1f,\n",
        "\tQuestion16 = -1f,\n",
        "\tQuestion17 = -1f,\n",
        "\tQuestion18 = 0f,\n",
        "\tQuestion19 = 0f,\n",
        "\tQuestion20 = 0f,\n",
        "\tQuestion21 = 0f,\n",
        "\tQuestion22 = 0f,\n",
        "\tQuestion23 = 0f,\n",
        "\tQuestion24 = 0f,\n",
        "\tQuestion25 = 0f,\n",
        "\tQuestion26 = 0f,\n",
        "\tQuestion27 = 0f,\n",
        "\tQuestion28 = 0f,\n",
        "\tQuestion29 = 0f,\n",
        "\tQuestion30 = -1f,\n",
        "\tQuestion31 = 0f,\n",
        "\tQuestion32 = 0f,\n",
        "\tQuestion33 = 0f,\n",
        "\tQuestion34 = 0f,\n",
        "\tQuestion35 = 0f,\n",
        "\tQuestion36 = -1f,\n",
        "\tQuestion37 = 0f,\n",
        "\tQuestion38 = -1f,\n",
        "\tQuestion39 = 1f,\n",
        "\tQuestion40 = -1f,\n",
        "\tQuestion41 = 0f,\n",
        "\tQuestion42 = 0f,\n",
        "\tQuestion43 = 1f,\n",
        "\tQuestion44 = 0f,\n",
        "\tQuestion45 = -1f,\n",
        "\tQuestion46 = 0f,\n",
        "\tQuestion47 = 0f,\n",
        "\tQuestion48 = 0f,\n",
        "\tQuestion49 = 0f,\n",
        "\tQuestion50 = 0f,\n",
        "\tQuestion51 = 0f,\n",
        "\tQuestion52 = 0f,\n",
        "\tQuestion53 = 0f,\n",
        "\tQuestion54 = 0f,\n",
        "\tQuestion55 = -1f,\n",
        "\tQuestion56 = 0f,\n",
        "\tQuestion57 = 0f,\n",
        "\tQuestion58 = 0f,\n",
        "\tQuestion59 = 0f,\n",
        "\tQuestion60 = 0f\n",
        "};\n",
        "\n",
        "using (var stream = new FileStream(\"./DecisionTreeClassification.mdl\", FileMode.Open, FileAccess.Read))\n",
        "{\n",
        "    var model = mlContext.Model.Load(stream, out var _);\n",
        "    var predictionEngine = mlContext.Model.CreatePredictionEngine<PersonalityInput, PersonalityOutput>(model);\n",
        "    var results = predictionEngine.Predict(newSample);\n",
        "\n",
        "\tConsole.WriteLine($\"Personality: {results.Personality}\");\n",
        "}"
      ],
      "outputs": [
        {
          "output_type": "execute_result",
          "data": {
            "text/plain": "Personality: ENFP\r\n"
          },
          "execution_count": 1,
          "metadata": {}
        }
      ]
    }
  ],
  "metadata": {
    "kernelspec": {
      "display_name": ".NET (C#)",
      "language": "C#",
      "name": ".net-csharp"
    },
    "language_info": {
      "file_extension": ".cs",
      "mimetype": "text/x-csharp",
      "name": "C#",
      "pygments_lexer": "csharp",
      "version": "8.0"
    }
  },
  "nbformat": 4,
  "nbformat_minor": 4
}