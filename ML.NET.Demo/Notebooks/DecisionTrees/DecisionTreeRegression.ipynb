{
  "cells": [
    {
      "cell_type": "markdown",
      "metadata": {},
      "source": [
        "1. Install nugets for the demo"
      ]
    },
    {
      "cell_type": "code",
      "execution_count": 1,
      "metadata": {
        "dotnet_interactive": {
          "language": "csharp"
        }
      },
      "source": [
        "#r \"nuget:Microsoft.ML,*-*\"\n",
        "#r \"nuget:Microsoft.Data.Analysis, *-*\"\n",
        "#r \"nuget:Microsoft.DotNet.Interactive.ExtensionLab,*-*\"\n",
        "#r \"nuget:Microsoft.ML.FastTree, *-*\""
      ],
      "outputs": [
        {
          "output_type": "execute_result",
          "data": {
            "text/html": "<div><div></div><div></div><div><strong>Installed Packages</strong><ul><li><span>Microsoft.Data.Analysis, 0.20.0-preview.22313.1</span></li><li><span>Microsoft.DotNet.Interactive.ExtensionLab, 1.0.0-beta.22504.6</span></li><li><span>Microsoft.ML, 2.0.0-preview.22313.1</span></li><li><span>Microsoft.ML.FastTree, 2.0.0-preview.22313.1</span></li></ul></div></div>"
          },
          "execution_count": 1,
          "metadata": {}
        }
      ]
    },
    {
      "cell_type": "markdown",
      "metadata": {},
      "source": [
        "2. Add global usings"
      ]
    },
    {
      "cell_type": "code",
      "execution_count": 1,
      "metadata": {
        "dotnet_interactive": {
          "language": "csharp"
        }
      },
      "source": [
        "using Microsoft.ML;\n",
        "using Microsoft.ML.Data;\n",
        "using Microsoft.Data.Analysis;\n",
        "using System.IO;\n",
        "using System.Text;"
      ],
      "outputs": []
    },
    {
      "cell_type": "markdown",
      "metadata": {},
      "source": [
        "3. Declare input data model"
      ]
    },
    {
      "cell_type": "code",
      "execution_count": 1,
      "metadata": {
        "dotnet_interactive": {
          "language": "csharp"
        }
      },
      "source": [
        "public class EnergyEfficiencyInput\n",
        "{\n",
        "\t[LoadColumn(0)]\n",
        "\tpublic float Compactness {get;set;}\n",
        "\n",
        "\t[LoadColumn(1)]\n",
        "\tpublic float SurfaceArea {get;set;}\n",
        "\n",
        "\t[LoadColumn(2)]\n",
        "\tpublic float WallArea {get;set;}\n",
        "\n",
        "\t[LoadColumn(3)]\n",
        "\tpublic float RoofArea {get;set;}\n",
        "\n",
        "\t[LoadColumn(4)]\n",
        "\tpublic float Height {get;set;}\n",
        "\n",
        "\t[LoadColumn(5)]\n",
        "\tpublic float Orientation {get;set;}\n",
        "\n",
        "\t[LoadColumn(6)]\n",
        "\tpublic float GlazingArea {get;set;}\n",
        "\n",
        "\t[LoadColumn(7)]\n",
        "\tpublic float GlazingAreaDistribution {get;set;}\n",
        "\n",
        "\t[LoadColumn(8)]\n",
        "\tpublic float HeatingLoad {get;set;}\n",
        "}"
      ],
      "outputs": []
    },
    {
      "cell_type": "markdown",
      "metadata": {},
      "source": [
        "4. Delcare output data model"
      ]
    },
    {
      "cell_type": "code",
      "execution_count": 1,
      "metadata": {
        "dotnet_interactive": {
          "language": "csharp"
        }
      },
      "source": [
        "public class EnergyEfficiencyOutput\n",
        "{\n",
        "\t[ColumnName(\"Score\")]\n",
        "\tpublic float HeatingLoad {get;set;}\n",
        "}"
      ],
      "outputs": []
    },
    {
      "cell_type": "markdown",
      "metadata": {},
      "source": [
        "5. Load the dataset and split into test and training sets"
      ]
    },
    {
      "cell_type": "code",
      "execution_count": 1,
      "metadata": {
        "dotnet_interactive": {
          "language": "csharp"
        }
      },
      "source": [
        "var mlContext = new MLContext();\n",
        "var trainingData = mlContext.Data.LoadFromTextFile<EnergyEfficiencyInput>(\"../../../ML.NET.Demo/Assets/energy_efficiency_data.csv\", hasHeader: true, separatorChar: ',');\n",
        "var dataSplit = mlContext.Data.TrainTestSplit(trainingData, testFraction: 0.3);"
      ],
      "outputs": []
    },
    {
      "cell_type": "markdown",
      "metadata": {},
      "source": [
        "6. *Optional* Display data split"
      ]
    },
    {
      "cell_type": "code",
      "execution_count": 1,
      "metadata": {
        "dotnet_interactive": {
          "language": "csharp"
        }
      },
      "source": [
        "dataSplit.TestSet.ToTabularDataResource().Display();"
      ],
      "outputs": []
    },
    {
      "cell_type": "markdown",
      "metadata": {},
      "source": [
        "7. Train the model (Feature Engineer)"
      ]
    },
    {
      "cell_type": "code",
      "execution_count": 1,
      "metadata": {
        "dotnet_interactive": {
          "language": "csharp"
        }
      },
      "source": [
        "var model = mlContext.Regression.Trainers.FastForest(numberOfLeaves: 5, numberOfTrees: 10);\n",
        "\n",
        "var pipeline = mlContext.Transforms.CopyColumns(\"Label\", nameof(EnergyEfficiencyInput.HeatingLoad))\n",
        "\t\t\t\t\t.Append(mlContext.Transforms.Concatenate(\"Features\", new[]\n",
        "\t\t\t\t\t{\n",
        "\t\t\t\t\t\tnameof(EnergyEfficiencyInput.Compactness),\n",
        "\t\t\t\t\t\tnameof(EnergyEfficiencyInput.SurfaceArea),\n",
        "\t\t\t\t\t\tnameof(EnergyEfficiencyInput.WallArea),\n",
        "\t\t\t\t\t\tnameof(EnergyEfficiencyInput.RoofArea),\n",
        "\t\t\t\t\t\tnameof(EnergyEfficiencyInput.Height),\n",
        "\t\t\t\t\t\tnameof(EnergyEfficiencyInput.Orientation),\n",
        "\t\t\t\t\t\tnameof(EnergyEfficiencyInput.GlazingArea),\n",
        "\t\t\t\t\t\tnameof(EnergyEfficiencyInput.GlazingAreaDistribution),\n",
        "\t\t\t\t\t}))\n",
        "\t\t\t\t\t.Append(mlContext.Transforms.NormalizeMinMax(\"Features\", \"Features\"))\n",
        "\t\t\t\t\t.Append(model);\n",
        "\n",
        "var trainedModel = pipeline.Fit(dataSplit.TrainSet);"
      ],
      "outputs": []
    },
    {
      "cell_type": "markdown",
      "metadata": {},
      "source": [
        "8. Evaluate the model"
      ]
    },
    {
      "cell_type": "code",
      "execution_count": 1,
      "metadata": {
        "dotnet_interactive": {
          "language": "csharp"
        }
      },
      "source": [
        "var testSet = trainedModel.Transform(dataSplit.TestSet);\n",
        "var metrics = mlContext.Regression.Evaluate(testSet);\n",
        "\n",
        "metrics"
      ],
      "outputs": [
        {
          "output_type": "execute_result",
          "data": {
            "text/html": "<table><thead><tr><th>MeanAbsoluteError</th><th>MeanSquaredError</th><th>RootMeanSquaredError</th><th>LossFunction</th><th>RSquared</th></tr></thead><tbody><tr><td><div class=\"dni-plaintext\">2.3277383072431697</div></td><td><div class=\"dni-plaintext\">8.950440543380186</div></td><td><div class=\"dni-plaintext\">2.9917286881300225</div></td><td><div class=\"dni-plaintext\">8.95044053196474</div></td><td><div class=\"dni-plaintext\">0.9100971443333749</div></td></tr></tbody></table>"
          },
          "execution_count": 1,
          "metadata": {}
        }
      ]
    },
    {
      "cell_type": "markdown",
      "metadata": {},
      "source": [
        "9. Save the model"
      ]
    },
    {
      "cell_type": "code",
      "execution_count": 1,
      "metadata": {
        "dotnet_interactive": {
          "language": "csharp"
        }
      },
      "source": [
        "mlContext.Model.Save(trainedModel, dataSplit.TrainSet.Schema, \"./DecisionTreeRegression.mdl\");"
      ],
      "outputs": []
    },
    {
      "cell_type": "markdown",
      "metadata": {},
      "source": [
        "10. Load the model and test"
      ]
    },
    {
      "cell_type": "code",
      "execution_count": 1,
      "metadata": {
        "dotnet_interactive": {
          "language": "csharp"
        }
      },
      "source": [
        "var newSample = new EnergyEfficiencyInput\n",
        "{\n",
        "\tCompactness = 0.98f,\n",
        "\tSurfaceArea = 514.5f,\n",
        "\tWallArea = 294f,\n",
        "\tRoofArea = 110.25f,\n",
        "\tHeight = 7f,\n",
        "\tOrientation = 2f,\n",
        "\tGlazingArea = 0f,\n",
        "\tGlazingAreaDistribution = 0f\n",
        "};\n",
        "\n",
        "using (var stream = new FileStream(\"./DecisionTreeRegression.mdl\", FileMode.Open, FileAccess.Read))\n",
        "{\n",
        "    var model = mlContext.Model.Load(stream, out var _);\n",
        "    var predictionEngine = mlContext.Model.CreatePredictionEngine<EnergyEfficiencyInput, EnergyEfficiencyOutput>(model);\n",
        "    var results = predictionEngine.Predict(newSample);\n",
        "\n",
        "    results.Display();\n",
        "}"
      ],
      "outputs": [
        {
          "output_type": "execute_result",
          "data": {
            "text/html": "<table><thead><tr><th>HeatingLoad</th></tr></thead><tbody><tr><td><div class=\"dni-plaintext\">26.81036</div></td></tr></tbody></table>"
          },
          "execution_count": 1,
          "metadata": {}
        }
      ]
    }
  ],
  "metadata": {
    "kernelspec": {
      "display_name": ".NET (C#)",
      "language": "C#",
      "name": ".net-csharp"
    },
    "language_info": {
      "file_extension": ".cs",
      "mimetype": "text/x-csharp",
      "name": "C#",
      "pygments_lexer": "csharp",
      "version": "8.0"
    }
  },
  "nbformat": 4,
  "nbformat_minor": 4
}