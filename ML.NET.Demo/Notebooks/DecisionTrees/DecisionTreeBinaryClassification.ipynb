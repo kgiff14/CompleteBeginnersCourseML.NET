{
  "cells": [
    {
      "cell_type": "markdown",
      "metadata": {},
      "source": [
        "1. Install needed nugets for demo"
      ]
    },
    {
      "cell_type": "code",
      "execution_count": 1,
      "metadata": {
        "dotnet_interactive": {
          "language": "csharp"
        }
      },
      "source": [
        "#r \"nuget:Microsoft.ML,*-*\"\n",
        "#r \"nuget:Microsoft.Data.Analysis, *-*\"\n",
        "#r \"nuget:Microsoft.DotNet.Interactive.ExtensionLab,*-*\"\n",
        "#r \"nuget:Microsoft.ML.FastTree, *-*\""
      ],
      "outputs": [
        {
          "output_type": "execute_result",
          "data": {
            "text/html": "<div><div></div><div></div><div><strong>Installed Packages</strong><ul><li><span>Microsoft.Data.Analysis, 0.20.0-preview.22313.1</span></li><li><span>Microsoft.DotNet.Interactive.ExtensionLab, 1.0.0-beta.22504.6</span></li><li><span>Microsoft.ML, 2.0.0-preview.22313.1</span></li><li><span>Microsoft.ML.FastTree, 2.0.0-preview.22313.1</span></li></ul></div></div>"
          },
          "execution_count": 1,
          "metadata": {}
        }
      ]
    },
    {
      "cell_type": "markdown",
      "metadata": {},
      "source": [
        "2. Add global usings"
      ]
    },
    {
      "cell_type": "code",
      "execution_count": 1,
      "metadata": {
        "dotnet_interactive": {
          "language": "csharp"
        }
      },
      "source": [
        "using Microsoft.ML;\n",
        "using Microsoft.ML.Data;\n",
        "using Microsoft.Data.Analysis;\n",
        "using System.IO;\n",
        "using System.Text;"
      ],
      "outputs": []
    },
    {
      "cell_type": "markdown",
      "metadata": {},
      "source": [
        "3. Add input data model"
      ]
    },
    {
      "cell_type": "code",
      "execution_count": 1,
      "metadata": {
        "dotnet_interactive": {
          "language": "csharp"
        }
      },
      "source": [
        "public class AutismInput\n",
        "{\n",
        "\t[LoadColumn(0)]\n",
        "\tpublic float Id {get;set;}\n",
        "\n",
        "\t[LoadColumn(1)]\n",
        "\tpublic float A1 {get;set;}\n",
        "\n",
        "\t[LoadColumn(2)]\n",
        "\tpublic float A2 {get;set;}\n",
        "\n",
        "\t[LoadColumn(3)]\n",
        "\tpublic float A3 {get;set;}\n",
        "\n",
        "\t[LoadColumn(4)]\n",
        "\tpublic float A4 {get;set;}\n",
        "\n",
        "\t[LoadColumn(5)]\n",
        "\tpublic float A5 {get;set;}\n",
        "\n",
        "\t[LoadColumn(6)]\n",
        "\tpublic float A6 {get;set;}\n",
        "\n",
        "\t[LoadColumn(7)]\n",
        "\tpublic float A7 {get;set;}\n",
        "\n",
        "\t[LoadColumn(8)]\n",
        "\tpublic float A8 {get;set;}\n",
        "\n",
        "\t[LoadColumn(9)]\n",
        "\tpublic float A9 {get;set;}\n",
        "\n",
        "\t[LoadColumn(10)]\n",
        "\tpublic float A10 {get;set;}\n",
        "\n",
        "\t[LoadColumn(11)]\n",
        "\tpublic float Age {get;set;}\n",
        "\n",
        "\t[LoadColumn(12)]\n",
        "\tpublic string Gender {get;set;}\n",
        "\n",
        "\t[LoadColumn(13)]\n",
        "\tpublic string Ethnicity {get;set;}\n",
        "\n",
        "\t[LoadColumn(14)]\n",
        "\tpublic string Jundice {get;set;}\n",
        "\n",
        "\t[LoadColumn(15)]\n",
        "\tpublic string Autism {get;set;}\n",
        "\n",
        "\t[LoadColumn(16)]\n",
        "\tpublic string Country {get;set;}\n",
        "\n",
        "\t[LoadColumn(17)]\n",
        "\tpublic string UsedApp {get;set;}\n",
        "\n",
        "\t[LoadColumn(18)]\n",
        "\tpublic float Result {get;set;}\n",
        "\n",
        "\t[LoadColumn(19)]\n",
        "\tpublic float AgeDesc {get;set;}\n",
        "\n",
        "\t[LoadColumn(20)]\n",
        "\tpublic string Relation {get;set;}\n",
        "\n",
        "\t[LoadColumn(21)]\n",
        "\tpublic bool Class {get;set;}\n",
        "}"
      ],
      "outputs": []
    },
    {
      "cell_type": "markdown",
      "metadata": {},
      "source": [
        "4. Add data model output"
      ]
    },
    {
      "cell_type": "code",
      "execution_count": 1,
      "metadata": {
        "dotnet_interactive": {
          "language": "csharp"
        }
      },
      "source": [
        "public class AutismOutput\n",
        "{\n",
        "\t[ColumnName(\"PredictedLabel\")]\n",
        "\tpublic bool ASD {get;set;}\n",
        "}"
      ],
      "outputs": []
    },
    {
      "cell_type": "markdown",
      "metadata": {},
      "source": [
        "5. Load the dataset and split for test and training sets"
      ]
    },
    {
      "cell_type": "code",
      "execution_count": 1,
      "metadata": {
        "dotnet_interactive": {
          "language": "csharp"
        }
      },
      "source": [
        "var mlContext = new MLContext();\n",
        "var trainingData = mlContext.Data.LoadFromTextFile<AutismInput>(\"../../../ML.NET.Demo/Assets/csv_result-Autism_Data.csv\", hasHeader: true, separatorChar: ',');\n",
        "var dataSplit = mlContext.Data.TrainTestSplit(trainingData, testFraction: 0.3);"
      ],
      "outputs": []
    },
    {
      "cell_type": "markdown",
      "metadata": {},
      "source": [
        "6. *Optional* Display dataset"
      ]
    },
    {
      "cell_type": "code",
      "execution_count": 1,
      "metadata": {
        "dotnet_interactive": {
          "language": "csharp"
        }
      },
      "source": [
        "dataSplit.TestSet.ToTabularDataResource().Display();"
      ],
      "outputs": []
    },
    {
      "cell_type": "markdown",
      "metadata": {},
      "source": [
        "7. Train the model (Feature Engineering)"
      ]
    },
    {
      "cell_type": "code",
      "execution_count": 1,
      "metadata": {
        "dotnet_interactive": {
          "language": "csharp"
        }
      },
      "source": [
        "var model = mlContext.BinaryClassification.Trainers.FastTree();\n",
        "\n",
        "\n",
        "var pipeline = mlContext.Transforms.Text.FeaturizeText(outputColumnName: \"GenderFeature\", inputColumnName: nameof(AutismInput.Gender))\n",
        "\t\t\t\t\t.Append(mlContext.Transforms.Text.FeaturizeText(outputColumnName: \"EthinicityFeature\", inputColumnName: nameof(AutismInput.Ethnicity)))\n",
        "\t\t\t\t\t.Append(mlContext.Transforms.Text.FeaturizeText(outputColumnName: \"CountryFeature\", inputColumnName: nameof(AutismInput.Country)))\n",
        "\t\t\t\t\t.Append(mlContext.Transforms.Text.FeaturizeText(outputColumnName: \"JundiceFeature\", inputColumnName: nameof(AutismInput.Jundice)))\n",
        "\t\t\t\t\t.Append(mlContext.Transforms.Text.FeaturizeText(outputColumnName: \"AutismFeature\", inputColumnName: nameof(AutismInput.Autism)))\n",
        "\t\t\t\t\t.Append(mlContext.Transforms.Text.FeaturizeText(outputColumnName: \"UsedAppFeature\", inputColumnName: nameof(AutismInput.UsedApp)))\n",
        "\t\t\t\t\t.Append(mlContext.Transforms.Concatenate(\"Features\", new []{\n",
        "\t\t\t\t\t\t\t\t\t\t\t\t\t\t\t\tnameof(AutismInput.A1),\n",
        "\t\t\t\t\t\t\t\t\t\t\t\t\t\t\t\tnameof(AutismInput.A2),\n",
        "\t\t\t\t\t\t\t\t\t\t\t\t\t\t\t\tnameof(AutismInput.A3),\n",
        "\t\t\t\t\t\t\t\t\t\t\t\t\t\t\t\tnameof(AutismInput.A4),\n",
        "\t\t\t\t\t\t\t\t\t\t\t\t\t\t\t\tnameof(AutismInput.A5),\n",
        "\t\t\t\t\t\t\t\t\t\t\t\t\t\t\t\tnameof(AutismInput.A6),\n",
        "\t\t\t\t\t\t\t\t\t\t\t\t\t\t\t\tnameof(AutismInput.A7),\n",
        "\t\t\t\t\t\t\t\t\t\t\t\t\t\t\t\tnameof(AutismInput.A8),\n",
        "\t\t\t\t\t\t\t\t\t\t\t\t\t\t\t\tnameof(AutismInput.A9),\n",
        "\t\t\t\t\t\t\t\t\t\t\t\t\t\t\t\tnameof(AutismInput.A10),\n",
        "\t\t\t\t\t\t\t\t\t\t\t\t\t\t\t\tnameof(AutismInput.Age),\n",
        "\t\t\t\t\t\t\t\t\t\t\t\t\t\t\t\t\"GenderFeature\",\n",
        "\t\t\t\t\t\t\t\t\t\t\t\t\t\t\t\t\"JundiceFeature\",\n",
        "\t\t\t\t\t\t\t\t\t\t\t\t\t\t\t\t\"AutismFeature\",\n",
        "\t\t\t\t\t\t\t\t\t\t\t\t\t\t\t\t\"EthinicityFeature\",\n",
        "\t\t\t\t\t\t\t\t\t\t\t\t\t\t\t\t\"CountryFeature\"\n",
        "\t\t\t\t\t\t\t\t\t\t\t\t\t\t\t\t}))\n",
        "\t\t\t\t\t.Append(mlContext.Transforms.CopyColumns(\"Label\", nameof(AutismInput.Class)))\n",
        "\t\t\t\t\t.Append(mlContext.Transforms.NormalizeMinMax(\"Features\", \"Features\")\n",
        "\t\t\t\t\t.Append(model));\n",
        "\n",
        "var trainedModel = pipeline.Fit(dataSplit.TrainSet);"
      ],
      "outputs": []
    },
    {
      "cell_type": "markdown",
      "metadata": {},
      "source": [
        "8. Evaluate the model"
      ]
    },
    {
      "cell_type": "code",
      "execution_count": 1,
      "metadata": {
        "dotnet_interactive": {
          "language": "csharp"
        }
      },
      "source": [
        "var testSet = trainedModel.Transform(dataSplit.TestSet);\n",
        "var metrics = mlContext.BinaryClassification.Evaluate(testSet);\n",
        "\n",
        "metrics"
      ],
      "outputs": [
        {
          "output_type": "execute_result",
          "data": {
            "text/html": "<table><thead><tr><th>LogLoss</th><th>LogLossReduction</th><th>Entropy</th><th>AreaUnderRocCurve</th><th>Accuracy</th><th>PositivePrecision</th><th>PositiveRecall</th><th>NegativePrecision</th><th>NegativeRecall</th><th>F1Score</th><th>AreaUnderPrecisionRecallCurve</th><th>ConfusionMatrix</th></tr></thead><tbody><tr><td><div class=\"dni-plaintext\">0.08288975688386298</div></td><td><div class=\"dni-plaintext\">0.9010993274359175</div></td><td><div class=\"dni-plaintext\">0.8381111547057962</div></td><td><div class=\"dni-plaintext\">0.998178269355888</div></td><td><div class=\"dni-plaintext\">0.9848484848484849</div></td><td><div class=\"dni-plaintext\">0.9629629629629629</div></td><td><div class=\"dni-plaintext\">0.9811320754716981</div></td><td><div class=\"dni-plaintext\">0.9930555555555556</div></td><td><div class=\"dni-plaintext\">0.9862068965517241</div></td><td><div class=\"dni-plaintext\">0.9719626168224299</div></td><td><div class=\"dni-plaintext\">0.9948376807564989</div></td><td><div class=\"dni-plaintext\">{ Microsoft.ML.Data.ConfusionMatrix: PerClassPrecision: [ 0.9629629629629629, 0.9930555555555556 ], PerClassRecall: [ 0.9811320754716981, 0.9862068965517241 ], Counts: [ [ 52, 1 ], [ 2, 143 ] ], NumberOfClasses: 2 }</div></td></tr></tbody></table>"
          },
          "execution_count": 1,
          "metadata": {}
        }
      ]
    },
    {
      "cell_type": "markdown",
      "metadata": {},
      "source": [
        "9. Save the model"
      ]
    },
    {
      "cell_type": "code",
      "execution_count": 1,
      "metadata": {
        "dotnet_interactive": {
          "language": "csharp"
        }
      },
      "source": [
        "mlContext.Model.Save(trainedModel, dataSplit.TrainSet.Schema, \"./DTBinaryClassification.mdl\");"
      ],
      "outputs": []
    },
    {
      "cell_type": "markdown",
      "metadata": {},
      "source": [
        "10. Load and test"
      ]
    },
    {
      "cell_type": "code",
      "execution_count": 1,
      "metadata": {
        "dotnet_interactive": {
          "language": "csharp"
        }
      },
      "source": [
        "var newSample = new AutismInput\n",
        "{\n",
        "\tId = 3f,\n",
        "\tA1 = 1f,\n",
        "\tA2 = 1f,\n",
        "\tA3 = 1f,\n",
        "\tA4 = 1f,\n",
        "\tA5 = 0f,\n",
        "\tA6 = 0f,\n",
        "\tA7 = 1f,\n",
        "\tA8 = 1f,\n",
        "\tA9 = 0f,\n",
        "\tA10 = 0f,\n",
        "\tAge = 26f,\n",
        "\tGender = \"f\",\n",
        "\tEthnicity = \"White-European\",\n",
        "\tJundice = \"no\",\n",
        "\tAutism = \"no\",\n",
        "\tCountry = \"United States\",\n",
        "\tUsedApp = \"no\",\n",
        "\tResult = 6f,\n",
        "\tAgeDesc = 18f,\n",
        "\tRelation = \"Self\"\n",
        "};\n",
        "\n",
        "using (var stream = new FileStream(\"./DTBinaryClassification.mdl\", FileMode.Open, FileAccess.Read))\n",
        "{\n",
        "    var model = mlContext.Model.Load(stream, out var _);\n",
        "    var predictionEngine = mlContext.Model.CreatePredictionEngine<AutismInput, AutismOutput>(model);\n",
        "    var results = predictionEngine.Predict(newSample);\n",
        "\n",
        "    results.Display();\n",
        "}"
      ],
      "outputs": [
        {
          "output_type": "execute_result",
          "data": {
            "text/html": "<table><thead><tr><th>ASD</th></tr></thead><tbody><tr><td><div class=\"dni-plaintext\">False</div></td></tr></tbody></table>"
          },
          "execution_count": 1,
          "metadata": {}
        }
      ]
    }
  ],
  "metadata": {
    "kernelspec": {
      "display_name": ".NET (C#)",
      "language": "C#",
      "name": ".net-csharp"
    },
    "language_info": {
      "file_extension": ".cs",
      "mimetype": "text/x-csharp",
      "name": "C#",
      "pygments_lexer": "csharp",
      "version": "8.0"
    }
  },
  "nbformat": 4,
  "nbformat_minor": 4
}