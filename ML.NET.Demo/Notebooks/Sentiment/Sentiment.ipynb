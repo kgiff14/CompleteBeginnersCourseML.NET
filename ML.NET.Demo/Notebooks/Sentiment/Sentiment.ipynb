{
  "cells": [
    {
      "cell_type": "markdown",
      "metadata": {},
      "source": [
        "1. Install nugets"
      ]
    },
    {
      "cell_type": "code",
      "execution_count": 1,
      "metadata": {
        "dotnet_interactive": {
          "language": "csharp"
        }
      },
      "source": [
        "#r \"nuget:Microsoft.ML,*-*\"\n",
        "#r \"nuget:Microsoft.Data.Analysis, *-*\"\n",
        "#r \"nuget:Microsoft.DotNet.Interactive.ExtensionLab,*-*\""
      ],
      "outputs": [
        {
          "output_type": "execute_result",
          "data": {
            "text/html": "<div><div></div><div></div><div><strong>Installed Packages</strong><ul><li><span>Microsoft.Data.Analysis, 0.20.0-preview.22313.1</span></li><li><span>Microsoft.DotNet.Interactive.ExtensionLab, 1.0.0-beta.22504.6</span></li><li><span>Microsoft.ML, 2.0.0-preview.22313.1</span></li></ul></div></div>"
          },
          "execution_count": 1,
          "metadata": {}
        },
        {
          "output_type": "execute_result",
          "data": {
            "text/markdown": "Loading extensions from `Microsoft.Data.Analysis.Interactive.dll`"
          },
          "execution_count": 1,
          "metadata": {}
        }
      ]
    },
    {
      "cell_type": "markdown",
      "metadata": {},
      "source": [
        "2. Add global usings"
      ]
    },
    {
      "cell_type": "code",
      "execution_count": 1,
      "metadata": {
        "dotnet_interactive": {
          "language": "csharp"
        }
      },
      "source": [
        "using Microsoft.ML;\n",
        "using Microsoft.ML.Data;\n",
        "using Microsoft.Data.Analysis;\n",
        "using System.IO;\n",
        "using System.Text;"
      ],
      "outputs": []
    },
    {
      "cell_type": "markdown",
      "metadata": {},
      "source": [
        "3. Add input data model"
      ]
    },
    {
      "cell_type": "code",
      "execution_count": 1,
      "metadata": {
        "dotnet_interactive": {
          "language": "csharp"
        }
      },
      "source": [
        "public class ReviewInput\n",
        "{\n",
        "\t[LoadColumn(0)]\n",
        "\tpublic string Text {get;set;}\n",
        "\n",
        "\t[LoadColumn(1)]\n",
        "\tpublic bool Label {get;set;}\n",
        "}"
      ],
      "outputs": []
    },
    {
      "cell_type": "markdown",
      "metadata": {},
      "source": [
        "4. Add output data model"
      ]
    },
    {
      "cell_type": "code",
      "execution_count": 1,
      "metadata": {
        "dotnet_interactive": {
          "language": "csharp"
        }
      },
      "source": [
        "public class ReviewOutput\n",
        "{\n",
        "\t[ColumnName(\"PredictedLabel\")]\n",
        "\tpublic bool IsPositive {get;set;}\n",
        "}"
      ],
      "outputs": []
    },
    {
      "cell_type": "markdown",
      "metadata": {},
      "source": [
        "5. Load the dataset and split for test and training"
      ]
    },
    {
      "cell_type": "code",
      "execution_count": 1,
      "metadata": {
        "dotnet_interactive": {
          "language": "csharp"
        }
      },
      "source": [
        "var mlContext = new MLContext();\n",
        "var trainingData = mlContext.Data.LoadFromTextFile<ReviewInput>(\"../../../ML.NET.Demo/Assets/movie_reviews.txt\", hasHeader: true);\n",
        "var dataSplit = mlContext.Data.TrainTestSplit(trainingData, testFraction: 0.2);"
      ],
      "outputs": []
    },
    {
      "cell_type": "markdown",
      "metadata": {},
      "source": [
        "6. *Optional* Display dataset"
      ]
    },
    {
      "cell_type": "code",
      "execution_count": 1,
      "metadata": {
        "dotnet_interactive": {
          "language": "csharp"
        }
      },
      "source": [
        "dataSplit.TestSet.ToTabularDataResource().Display();"
      ],
      "outputs": []
    },
    {
      "cell_type": "markdown",
      "metadata": {},
      "source": [
        "7. Train the model (Feature Engineering)"
      ]
    },
    {
      "cell_type": "code",
      "execution_count": 1,
      "metadata": {
        "dotnet_interactive": {
          "language": "csharp"
        }
      },
      "source": [
        "var model = mlContext.BinaryClassification.Trainers.SdcaLogisticRegression();\n",
        "\n",
        "var pipeline = mlContext.Transforms.Text.FeaturizeText(\"Features\", nameof(ReviewInput.Text))\n",
        "\t\t\t\t\t.Append(mlContext.Transforms.CopyColumns(\"Label\", nameof(ReviewInput.Label)))\n",
        "\t\t\t\t\t.Append(mlContext.Transforms.NormalizeMinMax(\"Features\", \"Features\"))\n",
        "\t\t\t\t\t.Append(model);\n",
        "\n",
        "var trainedModel = pipeline.Fit(dataSplit.TrainSet);"
      ],
      "outputs": []
    },
    {
      "cell_type": "markdown",
      "metadata": {},
      "source": [
        "8. Evaluate model"
      ]
    },
    {
      "cell_type": "code",
      "execution_count": 1,
      "metadata": {
        "dotnet_interactive": {
          "language": "csharp"
        }
      },
      "source": [
        "var testSet = trainedModel.Transform(dataSplit.TestSet);\n",
        "var metrics = mlContext.BinaryClassification.Evaluate(testSet);\n",
        "\n",
        "metrics"
      ],
      "outputs": [
        {
          "output_type": "execute_result",
          "data": {
            "text/html": "<table><thead><tr><th>LogLoss</th><th>LogLossReduction</th><th>Entropy</th><th>AreaUnderRocCurve</th><th>Accuracy</th><th>PositivePrecision</th><th>PositiveRecall</th><th>NegativePrecision</th><th>NegativeRecall</th><th>F1Score</th><th>AreaUnderPrecisionRecallCurve</th><th>ConfusionMatrix</th></tr></thead><tbody><tr><td><div class=\"dni-plaintext\">1.025580543894233</div></td><td><div class=\"dni-plaintext\">-0.025770990344823254</div></td><td><div class=\"dni-plaintext\">0.9998143382369136</div></td><td><div class=\"dni-plaintext\">0.8260869565217391</div></td><td><div class=\"dni-plaintext\">0.7165775401069518</div></td><td><div class=\"dni-plaintext\">0.7191011235955056</div></td><td><div class=\"dni-plaintext\">0.6956521739130435</div></td><td><div class=\"dni-plaintext\">0.7142857142857143</div></td><td><div class=\"dni-plaintext\">0.7368421052631579</div></td><td><div class=\"dni-plaintext\">0.7071823204419889</div></td><td><div class=\"dni-plaintext\">0.8310704486484549</div></td><td><div class=\"dni-plaintext\">{ Microsoft.ML.Data.ConfusionMatrix: PerClassPrecision: [ 0.7191011235955056, 0.7142857142857143 ], PerClassRecall: [ 0.6956521739130435, 0.7368421052631579 ], Counts: [ [ 64, 28 ], [ 25, 70 ] ], NumberOfClasses: 2 }</div></td></tr></tbody></table>"
          },
          "execution_count": 1,
          "metadata": {}
        }
      ]
    },
    {
      "cell_type": "markdown",
      "metadata": {},
      "source": [
        "9. Save the model"
      ]
    },
    {
      "cell_type": "code",
      "execution_count": 1,
      "metadata": {
        "dotnet_interactive": {
          "language": "csharp"
        }
      },
      "source": [
        "mlContext.Model.Save(trainedModel, dataSplit.TrainSet.Schema, \"./Sentiment.mdl\");"
      ],
      "outputs": []
    },
    {
      "cell_type": "markdown",
      "metadata": {},
      "source": [
        "10. Load and test"
      ]
    },
    {
      "cell_type": "code",
      "execution_count": 1,
      "metadata": {
        "dotnet_interactive": {
          "language": "csharp"
        }
      },
      "source": [
        "var newSample = new ReviewInput\n",
        "{\n",
        "\tText = \"It deserves strong love.\"\n",
        "};\n",
        "\n",
        "using (var stream = new FileStream(\"./Sentiment.mdl\", FileMode.Open, FileAccess.Read))\n",
        "{\n",
        "    var model = mlContext.Model.Load(stream, out var _);\n",
        "    var predictionEngine = mlContext.Model.CreatePredictionEngine<ReviewInput, ReviewOutput>(model);\n",
        "    var results = predictionEngine.Predict(newSample);\n",
        "\n",
        "    results.Display();\n",
        "}"
      ],
      "outputs": [
        {
          "output_type": "execute_result",
          "data": {
            "text/html": "<table><thead><tr><th>IsPositive</th></tr></thead><tbody><tr><td><div class=\"dni-plaintext\">True</div></td></tr></tbody></table>"
          },
          "execution_count": 1,
          "metadata": {}
        }
      ]
    }
  ],
  "metadata": {
    "kernelspec": {
      "display_name": ".NET (C#)",
      "language": "C#",
      "name": ".net-csharp"
    },
    "language_info": {
      "file_extension": ".cs",
      "mimetype": "text/x-csharp",
      "name": "C#",
      "pygments_lexer": "csharp",
      "version": "8.0"
    }
  },
  "nbformat": 4,
  "nbformat_minor": 4
}